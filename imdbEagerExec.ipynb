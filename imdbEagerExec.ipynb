{
 "cells": [
  {
   "cell_type": "code",
   "execution_count": 41,
   "metadata": {},
   "outputs": [],
   "source": [
    "import tensorflow as tf\n",
    "import pandas as pd\n",
    "import numpy as np\n",
    "import re\n",
    "import os"
   ]
  },
  {
   "cell_type": "code",
   "execution_count": 42,
   "metadata": {},
   "outputs": [],
   "source": [
    "BATCH_SIZE = 64\n",
    "EMBEDDING_DIM = 500\n",
    "LSTM_UNITS = 256\n",
    "DENSE_UNITS = LSTM_UNITS * 4"
   ]
  },
  {
   "cell_type": "markdown",
   "metadata": {},
   "source": [
    "# Load & Preprocess Data"
   ]
  },
  {
   "cell_type": "code",
   "execution_count": 43,
   "metadata": {},
   "outputs": [
    {
     "data": {
      "text/plain": [
       "['imdbEr.txt', 'train', 'imdb.vocab', 'test', 'README']"
      ]
     },
     "execution_count": 43,
     "metadata": {},
     "output_type": "execute_result"
    }
   ],
   "source": [
    "os.listdir('data/aclImdb')"
   ]
  },
  {
   "cell_type": "code",
   "execution_count": 44,
   "metadata": {},
   "outputs": [],
   "source": [
    "def load_directory_data(directory):\n",
    "    data={}\n",
    "    data[\"sentence\"] = []\n",
    "    data[\"sentiment\"] = []\n",
    "    for file_path in os.listdir(directory):\n",
    "        with tf.io.gfile.GFile(os.path.join(directory, file_path), \"r\") as f:\n",
    "            data[\"sentence\"].append(f.read())\n",
    "            data[\"sentiment\"].append(re.match(\"\\d+_(\\d+)\\.txt\", file_path).group(1))\n",
    "    return pd.DataFrame.from_dict(data)\n",
    "\n",
    "def load_dataset(directory):\n",
    "    pos_df = load_directory_data(directory + \"/pos\")\n",
    "    neg_df = load_directory_data(directory + \"/neg\")\n",
    "    pos_df[\"polarity\"] = 1\n",
    "    neg_df[\"polarity\"] = 0\n",
    "    return pd.concat([pos_df, neg_df]).sample(frac=1).reset_index(drop=True)"
   ]
  },
  {
   "cell_type": "code",
   "execution_count": 45,
   "metadata": {},
   "outputs": [],
   "source": [
    "train_df = load_dataset(\"data/aclImdb/train/\")\n",
    "test_df = load_dataset(\"data/aclImdb/test/\")"
   ]
  },
  {
   "cell_type": "code",
   "execution_count": 46,
   "metadata": {},
   "outputs": [
    {
     "data": {
      "text/html": [
       "<div>\n",
       "<style scoped>\n",
       "    .dataframe tbody tr th:only-of-type {\n",
       "        vertical-align: middle;\n",
       "    }\n",
       "\n",
       "    .dataframe tbody tr th {\n",
       "        vertical-align: top;\n",
       "    }\n",
       "\n",
       "    .dataframe thead th {\n",
       "        text-align: right;\n",
       "    }\n",
       "</style>\n",
       "<table border=\"1\" class=\"dataframe\">\n",
       "  <thead>\n",
       "    <tr style=\"text-align: right;\">\n",
       "      <th></th>\n",
       "      <th>sentence</th>\n",
       "      <th>sentiment</th>\n",
       "      <th>polarity</th>\n",
       "    </tr>\n",
       "  </thead>\n",
       "  <tbody>\n",
       "    <tr>\n",
       "      <th>0</th>\n",
       "      <td>STAR RATING: ***** Saturday Night **** Friday ...</td>\n",
       "      <td>4</td>\n",
       "      <td>0</td>\n",
       "    </tr>\n",
       "    <tr>\n",
       "      <th>1</th>\n",
       "      <td>Original Claymation Rudolph: Pretty good. Orig...</td>\n",
       "      <td>2</td>\n",
       "      <td>0</td>\n",
       "    </tr>\n",
       "    <tr>\n",
       "      <th>2</th>\n",
       "      <td>I know that in this episode there's other stuf...</td>\n",
       "      <td>4</td>\n",
       "      <td>0</td>\n",
       "    </tr>\n",
       "    <tr>\n",
       "      <th>3</th>\n",
       "      <td>Excellent Warner Bros effort starring Errol Fl...</td>\n",
       "      <td>9</td>\n",
       "      <td>1</td>\n",
       "    </tr>\n",
       "    <tr>\n",
       "      <th>4</th>\n",
       "      <td>Oliver Hardy awakens with a hangover and soon ...</td>\n",
       "      <td>4</td>\n",
       "      <td>0</td>\n",
       "    </tr>\n",
       "  </tbody>\n",
       "</table>\n",
       "</div>"
      ],
      "text/plain": [
       "                                            sentence sentiment  polarity\n",
       "0  STAR RATING: ***** Saturday Night **** Friday ...         4         0\n",
       "1  Original Claymation Rudolph: Pretty good. Orig...         2         0\n",
       "2  I know that in this episode there's other stuf...         4         0\n",
       "3  Excellent Warner Bros effort starring Errol Fl...         9         1\n",
       "4  Oliver Hardy awakens with a hangover and soon ...         4         0"
      ]
     },
     "execution_count": 46,
     "metadata": {},
     "output_type": "execute_result"
    }
   ],
   "source": [
    "train_df.head()"
   ]
  },
  {
   "cell_type": "code",
   "execution_count": 47,
   "metadata": {},
   "outputs": [],
   "source": [
    "x_train = train_df['sentence']\n",
    "y_train = train_df['polarity']\n",
    "x_test = test_df['sentence']\n",
    "y_test = test_df['polarity']"
   ]
  },
  {
   "cell_type": "code",
   "execution_count": 48,
   "metadata": {},
   "outputs": [
    {
     "data": {
      "text/plain": [
       "(0    STAR RATING: ***** Saturday Night **** Friday ...\n",
       " 1    Original Claymation Rudolph: Pretty good. Orig...\n",
       " 2    I know that in this episode there's other stuf...\n",
       " Name: sentence, dtype: object, 0    0\n",
       " 1    0\n",
       " 2    0\n",
       " Name: polarity, dtype: int64)"
      ]
     },
     "execution_count": 48,
     "metadata": {},
     "output_type": "execute_result"
    }
   ],
   "source": [
    "x_train[:3], y_train[:3]"
   ]
  },
  {
   "cell_type": "markdown",
   "metadata": {},
   "source": [
    "## Tokenize & Pad Data"
   ]
  },
  {
   "cell_type": "code",
   "execution_count": 49,
   "metadata": {},
   "outputs": [],
   "source": [
    "from tensorflow.keras.preprocessing import text, sequence\n",
    "import pickle\n",
    "\n",
    "tokenizer = text.Tokenizer()"
   ]
  },
  {
   "cell_type": "code",
   "execution_count": 50,
   "metadata": {},
   "outputs": [],
   "source": [
    "# tokenizer.fit_on_texts(x_train + x_test)\n",
    "\n",
    "# # saving\n",
    "# with open('tokenizer_imdb.pickle', 'wb') as handle:\n",
    "#     pickle.dump(tokenizer, handle, protocol=pickle.HIGHEST_PROTOCOL)"
   ]
  },
  {
   "cell_type": "code",
   "execution_count": 51,
   "metadata": {},
   "outputs": [],
   "source": [
    "# # loading\n",
    "with open('tokenizer_imdb.pickle', 'rb') as handle:\n",
    "    tokenizer = pickle.load(handle)"
   ]
  },
  {
   "cell_type": "code",
   "execution_count": 52,
   "metadata": {},
   "outputs": [],
   "source": [
    "max_length = max([len(s.split()) for s in (x_train + x_test)])\n",
    "vocab_size = len(tokenizer.word_index) + 1\n",
    "\n",
    "x_train = tokenizer.texts_to_sequences(x_train)\n",
    "x_test = tokenizer.texts_to_sequences(x_test)"
   ]
  },
  {
   "cell_type": "code",
   "execution_count": 53,
   "metadata": {},
   "outputs": [],
   "source": [
    "x_train = sequence.pad_sequences(x_train, maxlen=max_length, padding=\"post\")\n",
    "x_test = sequence.pad_sequences(x_test, maxlen=max_length, padding=\"post\")"
   ]
  },
  {
   "cell_type": "code",
   "execution_count": 54,
   "metadata": {},
   "outputs": [],
   "source": [
    "train_dataset = tf.data.Dataset.from_tensor_slices((x_train, y_train))\n",
    "train_dataset = train_dataset.batch(BATCH_SIZE, drop_remainder=True)\n",
    "\n",
    "test_dataset = tf.data.Dataset.from_tensor_slices((x_test, y_test))\n",
    "test_dataset = test_dataset.batch(BATCH_SIZE, drop_remainder=True)"
   ]
  },
  {
   "cell_type": "code",
   "execution_count": 55,
   "metadata": {},
   "outputs": [
    {
     "data": {
      "text/plain": [
       "<ShuffleDataset shapes: ((64, 2722), (64,)), types: (tf.int32, tf.int32)>"
      ]
     },
     "execution_count": 55,
     "metadata": {},
     "output_type": "execute_result"
    }
   ],
   "source": [
    "train_dataset.shuffle(BATCH_SIZE)\n",
    "test_dataset.shuffle(BATCH_SIZE)"
   ]
  },
  {
   "cell_type": "code",
   "execution_count": 56,
   "metadata": {},
   "outputs": [
    {
     "data": {
      "text/plain": [
       "(TensorShape([64, 2722]), TensorShape([64]))"
      ]
     },
     "execution_count": 56,
     "metadata": {},
     "output_type": "execute_result"
    }
   ],
   "source": [
    "example_inp_batch, example_targ_batch = next(iter(train_dataset))\n",
    "example_inp_batch.shape, example_targ_batch.shape"
   ]
  },
  {
   "cell_type": "markdown",
   "metadata": {},
   "source": [
    "# Define Model"
   ]
  },
  {
   "cell_type": "code",
   "execution_count": 57,
   "metadata": {},
   "outputs": [],
   "source": [
    "from tensorflow.keras.models import Sequential\n",
    "from tensorflow.keras.layers import Input, Dense, Embedding, SpatialDropout1D, Dropout, add, concatenate, Flatten, Embedding\n",
    "from tensorflow.keras.layers import Bidirectional, GlobalMaxPooling1D, GlobalAveragePooling1D, Input, LSTM\n",
    "from tensorflow.compat.v1.keras.layers import CuDNNLSTM, CuDNNGRU"
   ]
  },
  {
   "cell_type": "markdown",
   "metadata": {},
   "source": [
    "### Class model definition"
   ]
  },
  {
   "cell_type": "code",
   "execution_count": 58,
   "metadata": {},
   "outputs": [
    {
     "name": "stderr",
     "output_type": "stream",
     "text": [
      "W0413 13:39:43.010889 139752145893184 tf_logging.py:161] <tensorflow.python.keras.layers.recurrent.UnifiedLSTM object at 0x7f19081a6470>: Note that this layer is not optimized for performance. Please use tf.keras.layers.CuDNNLSTM for better performance on GPU.\n",
      "W0413 13:39:43.012671 139752145893184 tf_logging.py:161] <tensorflow.python.keras.layers.recurrent.UnifiedLSTM object at 0x7f19686c0d68>: Note that this layer is not optimized for performance. Please use tf.keras.layers.CuDNNLSTM for better performance on GPU.\n"
     ]
    }
   ],
   "source": [
    "class MyLSTM(tf.keras.Model):\n",
    "    def __init__(self):\n",
    "        super(MyLSTM, self).__init__()\n",
    "        self.embedding = Embedding(vocab_size, EMBEDDING_DIM, input_length=max_length)\n",
    "        self.dropout1 = SpatialDropout1D(0.3)\n",
    "        self.lstm1 = Bidirectional(LSTM(LSTM_UNITS, return_sequences=True, dropout=0.2))\n",
    "        self.gmp = GlobalMaxPooling1D()\n",
    "        self.dense1 = Dense(100, activation='relu')\n",
    "        self.dropout2 = Dropout(0.2)\n",
    "        self.denseOut = Dense(1, activation='sigmoid')\n",
    "    \n",
    "    def call(self, x):\n",
    "        x = self.embedding(x)\n",
    "        x = self.dropout1(x)\n",
    "        x = self.lstm1(x)\n",
    "        x = self.gmp(x)\n",
    "        x = self.dense1(x)\n",
    "        x = self.dropout2(x)\n",
    "        x = self.denseOut(x)\n",
    "        return x\n",
    "    \n",
    "model = MyLSTM()"
   ]
  },
  {
   "cell_type": "markdown",
   "metadata": {},
   "source": [
    "# Train Model"
   ]
  },
  {
   "cell_type": "code",
   "execution_count": 59,
   "metadata": {},
   "outputs": [],
   "source": [
    "import os\n",
    "\n",
    "checkpoint_dir = './training_checkpoints'\n",
    "checkpoint_prefix = os.path.join(checkpoint_dir, \"ckpt\")\n",
    "checkpoint = tf.train.Checkpoint(model=model)"
   ]
  },
  {
   "cell_type": "code",
   "execution_count": 60,
   "metadata": {},
   "outputs": [],
   "source": [
    "optimizer = tf.keras.optimizers.Adam()\n",
    "\n",
    "def loss_function(real, pred):\n",
    "    return tf.reduce_mean(tf.keras.losses.binary_crossentropy(tf.expand_dims(real, axis=1), \n",
    "                                                              pred, from_logits=True))"
   ]
  },
  {
   "cell_type": "code",
   "execution_count": 61,
   "metadata": {},
   "outputs": [],
   "source": [
    "@tf.function\n",
    "def train_step(inp, targ):\n",
    "    loss = 0\n",
    "    with tf.GradientTape() as tape:\n",
    "        preds = model(inp)\n",
    "        loss += loss_function(targ, preds)\n",
    "    \n",
    "    trn_acc_metric.update_state(targ, preds)\n",
    "\n",
    "    gradients = tape.gradient(loss, model.trainable_variables)\n",
    "    optimizer.apply_gradients(zip(gradients, model.trainable_variables))\n",
    "    return loss"
   ]
  },
  {
   "cell_type": "code",
   "execution_count": 62,
   "metadata": {},
   "outputs": [],
   "source": [
    "@tf.function\n",
    "def val_step(inp, targ):\n",
    "    loss = 0\n",
    "    with tf.GradientTape() as tape:\n",
    "        preds = model(inp)\n",
    "        loss += loss_function(targ, preds)\n",
    "    \n",
    "    val_acc_metric.update_state(targ, preds)\n",
    "    return tf.reduce_mean(loss)"
   ]
  },
  {
   "cell_type": "code",
   "execution_count": 63,
   "metadata": {
    "collapsed": true
   },
   "outputs": [
    {
     "name": "stdout",
     "output_type": "stream",
     "text": [
      "Epoch 1 Batch 0 Trn Loss 0.7792 Val Loss 0.7260 Trn_Acc 0.34 Val_Acc 0.52\n",
      "Epoch 1 Batch 100 Trn Loss 0.6929 Val Loss 0.6929 Trn_Acc 0.50 Val_Acc 0.50\n",
      "Epoch 1 Batch 200 Trn Loss 0.6903 Val Loss 0.6848 Trn_Acc 0.51 Val_Acc 0.51\n",
      "Epoch 1 Batch 300 Trn Loss 0.6931 Val Loss 0.6850 Trn_Acc 0.52 Val_Acc 0.52\n",
      "Epoch 1 Trn Loss 0.6853\n",
      "Epoch 1 Val Loss 0.6862\n",
      "Time taken for 1 epoch 280.2880861759186 sec\n",
      "\n",
      "Epoch 2 Batch 0 Trn Loss 0.6560 Val Loss 0.6218 Trn_Acc 0.53 Val_Acc 0.53\n",
      "Epoch 2 Batch 100 Trn Loss 0.5418 Val Loss 0.5735 Trn_Acc 0.58 Val_Acc 0.58\n",
      "Epoch 2 Batch 200 Trn Loss 0.6008 Val Loss 0.5454 Trn_Acc 0.62 Val_Acc 0.62\n",
      "Epoch 2 Batch 300 Trn Loss 0.5873 Val Loss 0.5588 Trn_Acc 0.65 Val_Acc 0.65\n",
      "Epoch 2 Trn Loss 0.5831\n",
      "Epoch 2 Val Loss 0.5860\n",
      "Time taken for 1 epoch 266.32435941696167 sec\n",
      "\n",
      "Epoch 3 Batch 0 Trn Loss 0.6039 Val Loss 0.5560 Trn_Acc 0.68 Val_Acc 0.67\n",
      "Epoch 3 Batch 100 Trn Loss 0.4971 Val Loss 0.5517 Trn_Acc 0.70 Val_Acc 0.69\n",
      "Epoch 3 Batch 200 Trn Loss 0.5562 Val Loss 0.5349 Trn_Acc 0.72 Val_Acc 0.71\n",
      "Epoch 3 Batch 300 Trn Loss 0.5532 Val Loss 0.5342 Trn_Acc 0.74 Val_Acc 0.73\n",
      "Epoch 3 Trn Loss 0.5443\n",
      "Epoch 3 Val Loss 0.5666\n",
      "Time taken for 1 epoch 275.8470792770386 sec\n",
      "\n",
      "Epoch 4 Batch 0 Trn Loss 0.5572 Val Loss 0.5738 Trn_Acc 0.76 Val_Acc 0.74\n",
      "Epoch 4 Batch 100 Trn Loss 0.5044 Val Loss 0.5520 Trn_Acc 0.77 Val_Acc 0.75\n",
      "Epoch 4 Batch 200 Trn Loss 0.5420 Val Loss 0.5422 Trn_Acc 0.78 Val_Acc 0.75\n",
      "Epoch 4 Batch 300 Trn Loss 0.5380 Val Loss 0.5423 Trn_Acc 0.79 Val_Acc 0.76\n",
      "Epoch 4 Trn Loss 0.5304\n",
      "Epoch 4 Val Loss 0.5654\n",
      "Time taken for 1 epoch 277.65251564979553 sec\n",
      "\n",
      "Epoch 5 Batch 0 Trn Loss 0.5704 Val Loss 0.5704 Trn_Acc 0.80 Val_Acc 0.77\n",
      "Epoch 5 Batch 100 Trn Loss 0.5148 Val Loss 0.5541 Trn_Acc 0.81 Val_Acc 0.77\n",
      "Epoch 5 Batch 200 Trn Loss 0.5306 Val Loss 0.5214 Trn_Acc 0.82 Val_Acc 0.78\n",
      "Epoch 5 Batch 300 Trn Loss 0.5496 Val Loss 0.5666 Trn_Acc 0.83 Val_Acc 0.78\n",
      "Epoch 5 Trn Loss 0.5240\n",
      "Epoch 5 Val Loss 0.5660\n",
      "Time taken for 1 epoch 276.74147725105286 sec\n",
      "\n",
      "Epoch 6 Batch 0 Trn Loss 0.5507 Val Loss 0.5322 Trn_Acc 0.83 Val_Acc 0.79\n",
      "Epoch 6 Batch 100 Trn Loss 0.4978 Val Loss 0.5521 Trn_Acc 0.84 Val_Acc 0.79\n",
      "Epoch 6 Batch 200 Trn Loss 0.5248 Val Loss 0.5388 Trn_Acc 0.84 Val_Acc 0.80\n",
      "Epoch 6 Batch 300 Trn Loss 0.5268 Val Loss 0.5660 Trn_Acc 0.85 Val_Acc 0.80\n",
      "Epoch 6 Trn Loss 0.5221\n",
      "Epoch 6 Val Loss 0.5674\n",
      "Time taken for 1 epoch 275.83209204673767 sec\n",
      "\n",
      "Epoch 7 Batch 0 Trn Loss 0.5506 Val Loss 0.5421 Trn_Acc 0.85 Val_Acc 0.80\n",
      "Epoch 7 Batch 100 Trn Loss 0.5015 Val Loss 0.5583 Trn_Acc 0.86 Val_Acc 0.80\n",
      "Epoch 7 Batch 200 Trn Loss 0.5311 Val Loss 0.5179 Trn_Acc 0.86 Val_Acc 0.81\n",
      "Epoch 7 Batch 300 Trn Loss 0.5200 Val Loss 0.5572 Trn_Acc 0.87 Val_Acc 0.81\n",
      "Epoch 7 Trn Loss 0.5195\n",
      "Epoch 7 Val Loss 0.5662\n",
      "Time taken for 1 epoch 274.03437995910645 sec\n",
      "\n",
      "Epoch 8 Batch 0 Trn Loss 0.5488 Val Loss 0.5426 Trn_Acc 0.87 Val_Acc 0.81\n",
      "Epoch 8 Batch 100 Trn Loss 0.4915 Val Loss 0.5502 Trn_Acc 0.87 Val_Acc 0.81\n",
      "Epoch 8 Batch 200 Trn Loss 0.5257 Val Loss 0.5244 Trn_Acc 0.88 Val_Acc 0.82\n",
      "Epoch 8 Batch 300 Trn Loss 0.5091 Val Loss 0.5435 Trn_Acc 0.88 Val_Acc 0.82\n",
      "Epoch 8 Trn Loss 0.5156\n",
      "Epoch 8 Val Loss 0.5624\n",
      "Time taken for 1 epoch 274.26110005378723 sec\n",
      "\n",
      "Epoch 9 Batch 0 Trn Loss 0.5448 Val Loss 0.5534 Trn_Acc 0.88 Val_Acc 0.82\n",
      "Epoch 9 Batch 100 Trn Loss 0.4973 Val Loss 0.5573 Trn_Acc 0.89 Val_Acc 0.82\n",
      "Epoch 9 Batch 200 Trn Loss 0.5334 Val Loss 0.5196 Trn_Acc 0.89 Val_Acc 0.82\n",
      "Epoch 9 Batch 300 Trn Loss 0.5092 Val Loss 0.5520 Trn_Acc 0.89 Val_Acc 0.82\n",
      "Epoch 9 Trn Loss 0.5147\n",
      "Epoch 9 Val Loss 0.5637\n",
      "Time taken for 1 epoch 274.28718733787537 sec\n",
      "\n",
      "Epoch 10 Batch 0 Trn Loss 0.5448 Val Loss 0.5610 Trn_Acc 0.89 Val_Acc 0.82\n",
      "Epoch 10 Batch 100 Trn Loss 0.4963 Val Loss 0.5626 Trn_Acc 0.90 Val_Acc 0.83\n",
      "Epoch 10 Batch 200 Trn Loss 0.5290 Val Loss 0.5183 Trn_Acc 0.90 Val_Acc 0.83\n",
      "Epoch 10 Batch 300 Trn Loss 0.5207 Val Loss 0.5418 Trn_Acc 0.90 Val_Acc 0.83\n",
      "Epoch 10 Trn Loss 0.5142\n",
      "Epoch 10 Val Loss 0.5641\n",
      "Time taken for 1 epoch 274.01141238212585 sec\n",
      "\n",
      "Epoch 11 Batch 0 Trn Loss 0.5565 Val Loss 0.5707 Trn_Acc 0.90 Val_Acc 0.83\n",
      "Epoch 11 Batch 100 Trn Loss 0.4913 Val Loss 0.5599 Trn_Acc 0.90 Val_Acc 0.83\n",
      "Epoch 11 Batch 200 Trn Loss 0.5248 Val Loss 0.5154 Trn_Acc 0.91 Val_Acc 0.83\n",
      "Epoch 11 Batch 300 Trn Loss 0.5095 Val Loss 0.5375 Trn_Acc 0.91 Val_Acc 0.83\n",
      "Epoch 11 Trn Loss 0.5140\n",
      "Epoch 11 Val Loss 0.5652\n",
      "Time taken for 1 epoch 271.0165786743164 sec\n",
      "\n",
      "Epoch 12 Batch 0 Trn Loss 0.5515 Val Loss 0.5789 Trn_Acc 0.91 Val_Acc 0.83\n",
      "Epoch 12 Batch 100 Trn Loss 0.4913 Val Loss 0.5823 Trn_Acc 0.91 Val_Acc 0.83\n",
      "Epoch 12 Batch 200 Trn Loss 0.5248 Val Loss 0.5099 Trn_Acc 0.91 Val_Acc 0.83\n",
      "Epoch 12 Batch 300 Trn Loss 0.5091 Val Loss 0.5302 Trn_Acc 0.91 Val_Acc 0.84\n",
      "Epoch 12 Trn Loss 0.5120\n",
      "Epoch 12 Val Loss 0.5636\n",
      "Time taken for 1 epoch 271.7169997692108 sec\n",
      "\n",
      "Epoch 13 Batch 0 Trn Loss 0.5448 Val Loss 0.5738 Trn_Acc 0.91 Val_Acc 0.84\n",
      "Epoch 13 Batch 100 Trn Loss 0.4913 Val Loss 0.5816 Trn_Acc 0.92 Val_Acc 0.84\n",
      "Epoch 13 Batch 200 Trn Loss 0.5248 Val Loss 0.5255 Trn_Acc 0.92 Val_Acc 0.84\n",
      "Epoch 13 Batch 300 Trn Loss 0.5091 Val Loss 0.5434 Trn_Acc 0.92 Val_Acc 0.84\n",
      "Epoch 13 Trn Loss 0.5121\n",
      "Epoch 13 Val Loss 0.5661\n",
      "Time taken for 1 epoch 269.559855222702 sec\n",
      "\n",
      "Epoch 14 Batch 0 Trn Loss 0.5448 Val Loss 0.5839 Trn_Acc 0.92 Val_Acc 0.84\n",
      "Epoch 14 Batch 100 Trn Loss 0.4913 Val Loss 0.5477 Trn_Acc 0.92 Val_Acc 0.84\n",
      "Epoch 14 Batch 200 Trn Loss 0.5248 Val Loss 0.5243 Trn_Acc 0.92 Val_Acc 0.84\n",
      "Epoch 14 Batch 300 Trn Loss 0.5091 Val Loss 0.5278 Trn_Acc 0.92 Val_Acc 0.84\n",
      "Epoch 14 Trn Loss 0.5120\n",
      "Epoch 14 Val Loss 0.5652\n",
      "Time taken for 1 epoch 272.5597982406616 sec\n",
      "\n",
      "Epoch 15 Batch 0 Trn Loss 0.5449 Val Loss 0.5423 Trn_Acc 0.92 Val_Acc 0.84\n",
      "Epoch 15 Batch 100 Trn Loss 0.4917 Val Loss 0.5801 Trn_Acc 0.92 Val_Acc 0.84\n",
      "Epoch 15 Batch 200 Trn Loss 0.5248 Val Loss 0.5289 Trn_Acc 0.93 Val_Acc 0.84\n",
      "Epoch 15 Batch 300 Trn Loss 0.5091 Val Loss 0.5338 Trn_Acc 0.93 Val_Acc 0.84\n",
      "Epoch 15 Trn Loss 0.5113\n",
      "Epoch 15 Val Loss 0.5658\n",
      "Time taken for 1 epoch 276.5142593383789 sec\n",
      "\n",
      "Epoch 16 Batch 0 Trn Loss 0.5448 Val Loss 0.5918 Trn_Acc 0.93 Val_Acc 0.84\n",
      "Epoch 16 Batch 100 Trn Loss 0.4913 Val Loss 0.5730 Trn_Acc 0.93 Val_Acc 0.84\n",
      "Epoch 16 Batch 200 Trn Loss 0.5248 Val Loss 0.5416 Trn_Acc 0.93 Val_Acc 0.84\n",
      "Epoch 16 Batch 300 Trn Loss 0.5091 Val Loss 0.5326 Trn_Acc 0.93 Val_Acc 0.84\n",
      "Epoch 16 Trn Loss 0.5105\n",
      "Epoch 16 Val Loss 0.5645\n",
      "Time taken for 1 epoch 278.9483766555786 sec\n",
      "\n",
      "Epoch 17 Batch 0 Trn Loss 0.5459 Val Loss 0.5835 Trn_Acc 0.93 Val_Acc 0.84\n",
      "Epoch 17 Batch 100 Trn Loss 0.4913 Val Loss 0.5807 Trn_Acc 0.93 Val_Acc 0.84\n",
      "Epoch 17 Batch 200 Trn Loss 0.5250 Val Loss 0.5318 Trn_Acc 0.93 Val_Acc 0.85\n",
      "Epoch 17 Batch 300 Trn Loss 0.5091 Val Loss 0.5251 Trn_Acc 0.93 Val_Acc 0.85\n",
      "Epoch 17 Trn Loss 0.5113\n",
      "Epoch 17 Val Loss 0.5665\n",
      "Time taken for 1 epoch 275.5495011806488 sec\n",
      "\n",
      "Epoch 18 Batch 0 Trn Loss 0.5448 Val Loss 0.5909 Trn_Acc 0.93 Val_Acc 0.85\n",
      "Epoch 18 Batch 100 Trn Loss 0.4919 Val Loss 0.5851 Trn_Acc 0.94 Val_Acc 0.85\n",
      "Epoch 18 Batch 200 Trn Loss 0.5309 Val Loss 0.5310 Trn_Acc 0.94 Val_Acc 0.85\n",
      "Epoch 18 Batch 300 Trn Loss 0.5091 Val Loss 0.5188 Trn_Acc 0.94 Val_Acc 0.85\n",
      "Epoch 18 Trn Loss 0.5112\n",
      "Epoch 18 Val Loss 0.5674\n",
      "Time taken for 1 epoch 276.8686499595642 sec\n",
      "\n",
      "Epoch 19 Batch 0 Trn Loss 0.5448 Val Loss 0.5684 Trn_Acc 0.94 Val_Acc 0.85\n",
      "Epoch 19 Batch 100 Trn Loss 0.4913 Val Loss 0.5877 Trn_Acc 0.94 Val_Acc 0.85\n",
      "Epoch 19 Batch 200 Trn Loss 0.5248 Val Loss 0.5382 Trn_Acc 0.94 Val_Acc 0.85\n",
      "Epoch 19 Batch 300 Trn Loss 0.5091 Val Loss 0.5290 Trn_Acc 0.94 Val_Acc 0.85\n",
      "Epoch 19 Trn Loss 0.5107\n",
      "Epoch 19 Val Loss 0.5649\n",
      "Time taken for 1 epoch 276.3130886554718 sec\n",
      "\n",
      "Epoch 20 Batch 0 Trn Loss 0.5448 Val Loss 0.5758 Trn_Acc 0.94 Val_Acc 0.85\n",
      "Epoch 20 Batch 100 Trn Loss 0.4913 Val Loss 0.5732 Trn_Acc 0.94 Val_Acc 0.85\n",
      "Epoch 20 Batch 200 Trn Loss 0.5248 Val Loss 0.5193 Trn_Acc 0.94 Val_Acc 0.85\n",
      "Epoch 20 Batch 300 Trn Loss 0.5091 Val Loss 0.5334 Trn_Acc 0.94 Val_Acc 0.85\n",
      "Epoch 20 Trn Loss 0.5101\n",
      "Epoch 20 Val Loss 0.5646\n",
      "Time taken for 1 epoch 277.2159357070923 sec\n",
      "\n",
      "Epoch 21 Batch 0 Trn Loss 0.5448 Val Loss 0.5945 Trn_Acc 0.94 Val_Acc 0.85\n",
      "Epoch 21 Batch 100 Trn Loss 0.4913 Val Loss 0.5954 Trn_Acc 0.94 Val_Acc 0.85\n",
      "Epoch 21 Batch 200 Trn Loss 0.5273 Val Loss 0.5305 Trn_Acc 0.94 Val_Acc 0.85\n"
     ]
    },
    {
     "name": "stdout",
     "output_type": "stream",
     "text": [
      "Epoch 21 Batch 300 Trn Loss 0.5091 Val Loss 0.5344 Trn_Acc 0.94 Val_Acc 0.85\n",
      "Epoch 21 Trn Loss 0.5098\n",
      "Epoch 21 Val Loss 0.5656\n",
      "Time taken for 1 epoch 276.44204783439636 sec\n",
      "\n",
      "Epoch 22 Batch 0 Trn Loss 0.5448 Val Loss 0.5820 Trn_Acc 0.94 Val_Acc 0.85\n",
      "Epoch 22 Batch 100 Trn Loss 0.4854 Val Loss 0.5989 Trn_Acc 0.94 Val_Acc 0.85\n",
      "Epoch 22 Batch 200 Trn Loss 0.5525 Val Loss 0.5417 Trn_Acc 0.94 Val_Acc 0.85\n",
      "Epoch 22 Batch 300 Trn Loss 0.5091 Val Loss 0.5317 Trn_Acc 0.95 Val_Acc 0.85\n",
      "Epoch 22 Trn Loss 0.5102\n",
      "Epoch 22 Val Loss 0.5658\n",
      "Time taken for 1 epoch 276.44273495674133 sec\n",
      "\n",
      "Epoch 23 Batch 0 Trn Loss 0.5448 Val Loss 0.5682 Trn_Acc 0.95 Val_Acc 0.85\n",
      "Epoch 23 Batch 100 Trn Loss 0.4854 Val Loss 0.5766 Trn_Acc 0.95 Val_Acc 0.85\n",
      "Epoch 23 Batch 200 Trn Loss 0.5249 Val Loss 0.5258 Trn_Acc 0.95 Val_Acc 0.85\n",
      "Epoch 23 Batch 300 Trn Loss 0.5089 Val Loss 0.5279 Trn_Acc 0.95 Val_Acc 0.85\n",
      "Epoch 23 Trn Loss 0.5099\n",
      "Epoch 23 Val Loss 0.5639\n",
      "Time taken for 1 epoch 276.7256543636322 sec\n",
      "\n",
      "Epoch 24 Batch 0 Trn Loss 0.5448 Val Loss 0.5743 Trn_Acc 0.95 Val_Acc 0.85\n",
      "Epoch 24 Batch 100 Trn Loss 0.4854 Val Loss 0.5846 Trn_Acc 0.95 Val_Acc 0.85\n",
      "Epoch 24 Batch 200 Trn Loss 0.5248 Val Loss 0.5395 Trn_Acc 0.95 Val_Acc 0.85\n",
      "Epoch 24 Batch 300 Trn Loss 0.5032 Val Loss 0.5304 Trn_Acc 0.95 Val_Acc 0.85\n",
      "Epoch 24 Trn Loss 0.5094\n",
      "Epoch 24 Val Loss 0.5642\n",
      "Time taken for 1 epoch 278.31481075286865 sec\n",
      "\n",
      "Epoch 25 Batch 0 Trn Loss 0.5448 Val Loss 0.5709 Trn_Acc 0.95 Val_Acc 0.85\n",
      "Epoch 25 Batch 100 Trn Loss 0.4854 Val Loss 0.5880 Trn_Acc 0.95 Val_Acc 0.85\n",
      "Epoch 25 Batch 200 Trn Loss 0.5340 Val Loss 0.5356 Trn_Acc 0.95 Val_Acc 0.85\n",
      "Epoch 25 Batch 300 Trn Loss 0.5032 Val Loss 0.5307 Trn_Acc 0.95 Val_Acc 0.85\n",
      "Epoch 25 Trn Loss 0.5095\n",
      "Epoch 25 Val Loss 0.5648\n",
      "Time taken for 1 epoch 276.2140326499939 sec\n",
      "\n",
      "Epoch 26 Batch 0 Trn Loss 0.5448 Val Loss 0.5644 Trn_Acc 0.95 Val_Acc 0.85\n",
      "Epoch 26 Batch 100 Trn Loss 0.4857 Val Loss 0.5703 Trn_Acc 0.95 Val_Acc 0.85\n",
      "Epoch 26 Batch 200 Trn Loss 0.5248 Val Loss 0.5281 Trn_Acc 0.95 Val_Acc 0.85\n",
      "Epoch 26 Batch 300 Trn Loss 0.5032 Val Loss 0.5298 Trn_Acc 0.95 Val_Acc 0.85\n",
      "Epoch 26 Trn Loss 0.5091\n",
      "Epoch 26 Val Loss 0.5639\n",
      "Time taken for 1 epoch 277.35066866874695 sec\n",
      "\n",
      "Epoch 27 Batch 0 Trn Loss 0.5448 Val Loss 0.5620 Trn_Acc 0.95 Val_Acc 0.85\n",
      "Epoch 27 Batch 100 Trn Loss 0.4856 Val Loss 0.5822 Trn_Acc 0.95 Val_Acc 0.85\n",
      "Epoch 27 Batch 200 Trn Loss 0.5248 Val Loss 0.5314 Trn_Acc 0.95 Val_Acc 0.85\n",
      "Epoch 27 Batch 300 Trn Loss 0.5091 Val Loss 0.5286 Trn_Acc 0.95 Val_Acc 0.85\n",
      "Epoch 27 Trn Loss 0.5096\n",
      "Epoch 27 Val Loss 0.5653\n",
      "Time taken for 1 epoch 276.2260811328888 sec\n",
      "\n",
      "Epoch 28 Batch 0 Trn Loss 0.5448 Val Loss 0.5820 Trn_Acc 0.95 Val_Acc 0.85\n",
      "Epoch 28 Batch 100 Trn Loss 0.4854 Val Loss 0.5713 Trn_Acc 0.95 Val_Acc 0.85\n",
      "Epoch 28 Batch 200 Trn Loss 0.5249 Val Loss 0.5423 Trn_Acc 0.95 Val_Acc 0.85\n",
      "Epoch 28 Batch 300 Trn Loss 0.5032 Val Loss 0.5255 Trn_Acc 0.95 Val_Acc 0.85\n",
      "Epoch 28 Trn Loss 0.5090\n",
      "Epoch 28 Val Loss 0.5627\n",
      "Time taken for 1 epoch 277.06017661094666 sec\n",
      "\n",
      "Epoch 29 Batch 0 Trn Loss 0.5448 Val Loss 0.5852 Trn_Acc 0.95 Val_Acc 0.86\n",
      "Epoch 29 Batch 100 Trn Loss 0.4854 Val Loss 0.5708 Trn_Acc 0.95 Val_Acc 0.86\n",
      "Epoch 29 Batch 200 Trn Loss 0.5248 Val Loss 0.5173 Trn_Acc 0.96 Val_Acc 0.86\n",
      "Epoch 29 Batch 300 Trn Loss 0.5032 Val Loss 0.5188 Trn_Acc 0.96 Val_Acc 0.86\n",
      "Epoch 29 Trn Loss 0.5088\n",
      "Epoch 29 Val Loss 0.5635\n",
      "Time taken for 1 epoch 276.73002767562866 sec\n",
      "\n",
      "Epoch 30 Batch 0 Trn Loss 0.5448 Val Loss 0.5688 Trn_Acc 0.96 Val_Acc 0.86\n",
      "Epoch 30 Batch 100 Trn Loss 0.4854 Val Loss 0.5729 Trn_Acc 0.96 Val_Acc 0.86\n",
      "Epoch 30 Batch 200 Trn Loss 0.5422 Val Loss 0.5710 Trn_Acc 0.96 Val_Acc 0.86\n",
      "Epoch 30 Batch 300 Trn Loss 0.5032 Val Loss 0.5220 Trn_Acc 0.96 Val_Acc 0.86\n",
      "Epoch 30 Trn Loss 0.5094\n",
      "Epoch 30 Val Loss 0.5644\n",
      "Time taken for 1 epoch 277.3689937591553 sec\n",
      "\n",
      "Epoch 31 Batch 0 Trn Loss 0.5448 Val Loss 0.5764 Trn_Acc 0.96 Val_Acc 0.86\n",
      "Epoch 31 Batch 100 Trn Loss 0.4854 Val Loss 0.5778 Trn_Acc 0.96 Val_Acc 0.86\n",
      "Epoch 31 Batch 200 Trn Loss 0.5248 Val Loss 0.5292 Trn_Acc 0.96 Val_Acc 0.86\n",
      "Epoch 31 Batch 300 Trn Loss 0.5032 Val Loss 0.5386 Trn_Acc 0.96 Val_Acc 0.86\n",
      "Epoch 31 Trn Loss 0.5091\n",
      "Epoch 31 Val Loss 0.5661\n",
      "Time taken for 1 epoch 276.72232460975647 sec\n",
      "\n",
      "Epoch 32 Batch 0 Trn Loss 0.5448 Val Loss 0.5832 Trn_Acc 0.96 Val_Acc 0.86\n",
      "Epoch 32 Batch 100 Trn Loss 0.4854 Val Loss 0.5737 Trn_Acc 0.96 Val_Acc 0.86\n",
      "Epoch 32 Batch 200 Trn Loss 0.5248 Val Loss 0.5234 Trn_Acc 0.96 Val_Acc 0.86\n",
      "Epoch 32 Batch 300 Trn Loss 0.4973 Val Loss 0.5352 Trn_Acc 0.96 Val_Acc 0.86\n",
      "Epoch 32 Trn Loss 0.5090\n",
      "Epoch 32 Val Loss 0.5649\n",
      "Time taken for 1 epoch 277.4986050128937 sec\n",
      "\n",
      "Epoch 33 Batch 0 Trn Loss 0.5448 Val Loss 0.5765 Trn_Acc 0.96 Val_Acc 0.86\n",
      "Epoch 33 Batch 100 Trn Loss 0.4913 Val Loss 0.5691 Trn_Acc 0.96 Val_Acc 0.86\n",
      "Epoch 33 Batch 200 Trn Loss 0.5248 Val Loss 0.5275 Trn_Acc 0.96 Val_Acc 0.86\n",
      "Epoch 33 Batch 300 Trn Loss 0.4973 Val Loss 0.5195 Trn_Acc 0.96 Val_Acc 0.86\n",
      "Epoch 33 Trn Loss 0.5091\n",
      "Epoch 33 Val Loss 0.5646\n",
      "Time taken for 1 epoch 259.63753485679626 sec\n",
      "\n",
      "Epoch 34 Batch 0 Trn Loss 0.5448 Val Loss 0.5810 Trn_Acc 0.96 Val_Acc 0.86\n",
      "Epoch 34 Batch 100 Trn Loss 0.4854 Val Loss 0.5781 Trn_Acc 0.96 Val_Acc 0.86\n",
      "Epoch 34 Batch 200 Trn Loss 0.5248 Val Loss 0.5188 Trn_Acc 0.96 Val_Acc 0.86\n",
      "Epoch 34 Batch 300 Trn Loss 0.4973 Val Loss 0.5255 Trn_Acc 0.96 Val_Acc 0.86\n",
      "Epoch 34 Trn Loss 0.5094\n",
      "Epoch 34 Val Loss 0.5668\n",
      "Time taken for 1 epoch 277.7797677516937 sec\n",
      "\n",
      "Epoch 35 Batch 0 Trn Loss 0.5448 Val Loss 0.5727 Trn_Acc 0.96 Val_Acc 0.86\n",
      "Epoch 35 Batch 100 Trn Loss 0.4854 Val Loss 0.5736 Trn_Acc 0.96 Val_Acc 0.86\n",
      "Epoch 35 Batch 200 Trn Loss 0.5299 Val Loss 0.5181 Trn_Acc 0.96 Val_Acc 0.86\n",
      "Epoch 35 Batch 300 Trn Loss 0.4973 Val Loss 0.5332 Trn_Acc 0.96 Val_Acc 0.86\n"
     ]
    },
    {
     "ename": "KeyboardInterrupt",
     "evalue": "",
     "output_type": "error",
     "traceback": [
      "\u001b[0;31m---------------------------------------------------------------------------\u001b[0m",
      "\u001b[0;31mKeyboardInterrupt\u001b[0m                         Traceback (most recent call last)",
      "\u001b[0;32m<ipython-input-63-bc62cada5e7e>\u001b[0m in \u001b[0;36m<module>\u001b[0;34m\u001b[0m\n\u001b[1;32m     17\u001b[0m     \u001b[0mhidden\u001b[0m \u001b[0;34m=\u001b[0m \u001b[0mmodel\u001b[0m\u001b[0;34m.\u001b[0m\u001b[0mreset_states\u001b[0m\u001b[0;34m(\u001b[0m\u001b[0;34m)\u001b[0m\u001b[0;34m\u001b[0m\u001b[0;34m\u001b[0m\u001b[0m\n\u001b[1;32m     18\u001b[0m     \u001b[0;32mfor\u001b[0m \u001b[0mbatch\u001b[0m\u001b[0;34m,\u001b[0m \u001b[0;34m(\u001b[0m\u001b[0;34m(\u001b[0m\u001b[0mtrn_inp\u001b[0m\u001b[0;34m,\u001b[0m \u001b[0mtrn_targ\u001b[0m\u001b[0;34m)\u001b[0m\u001b[0;34m,\u001b[0m \u001b[0;34m(\u001b[0m\u001b[0mval_inp\u001b[0m\u001b[0;34m,\u001b[0m \u001b[0mval_targ\u001b[0m\u001b[0;34m)\u001b[0m\u001b[0;34m)\u001b[0m \u001b[0;32min\u001b[0m \u001b[0menumerate\u001b[0m\u001b[0;34m(\u001b[0m\u001b[0mzip\u001b[0m\u001b[0;34m(\u001b[0m\u001b[0mtrain_dataset\u001b[0m\u001b[0;34m.\u001b[0m\u001b[0mtake\u001b[0m\u001b[0;34m(\u001b[0m\u001b[0msteps_per_epoch\u001b[0m\u001b[0;34m)\u001b[0m\u001b[0;34m,\u001b[0m \u001b[0mtest_dataset\u001b[0m\u001b[0;34m.\u001b[0m\u001b[0mtake\u001b[0m\u001b[0;34m(\u001b[0m\u001b[0msteps_per_epoch\u001b[0m\u001b[0;34m)\u001b[0m\u001b[0;34m)\u001b[0m\u001b[0;34m)\u001b[0m\u001b[0;34m:\u001b[0m\u001b[0;34m\u001b[0m\u001b[0;34m\u001b[0m\u001b[0m\n\u001b[0;32m---> 19\u001b[0;31m         \u001b[0mbatch_loss\u001b[0m \u001b[0;34m=\u001b[0m \u001b[0mtrain_step\u001b[0m\u001b[0;34m(\u001b[0m\u001b[0mtrn_inp\u001b[0m\u001b[0;34m,\u001b[0m \u001b[0mtrn_targ\u001b[0m\u001b[0;34m)\u001b[0m\u001b[0;34m\u001b[0m\u001b[0;34m\u001b[0m\u001b[0m\n\u001b[0m\u001b[1;32m     20\u001b[0m         \u001b[0mtotal_loss\u001b[0m \u001b[0;34m+=\u001b[0m \u001b[0mbatch_loss\u001b[0m\u001b[0;34m\u001b[0m\u001b[0;34m\u001b[0m\u001b[0m\n\u001b[1;32m     21\u001b[0m         \u001b[0mtrn_loss_list\u001b[0m\u001b[0;34m.\u001b[0m\u001b[0mappend\u001b[0m\u001b[0;34m(\u001b[0m\u001b[0mbatch_loss\u001b[0m\u001b[0;34m)\u001b[0m\u001b[0;34m\u001b[0m\u001b[0;34m\u001b[0m\u001b[0m\n",
      "\u001b[0;32m~/anaconda3/envs/tf2alpha/lib/python3.7/site-packages/tensorflow/python/eager/def_function.py\u001b[0m in \u001b[0;36m__call__\u001b[0;34m(self, *args, **kwds)\u001b[0m\n\u001b[1;32m    412\u001b[0m       \u001b[0;31m# In this case we have created variables on the first call, so we run the\u001b[0m\u001b[0;34m\u001b[0m\u001b[0;34m\u001b[0m\u001b[0;34m\u001b[0m\u001b[0m\n\u001b[1;32m    413\u001b[0m       \u001b[0;31m# defunned version which is guaranteed to never create variables.\u001b[0m\u001b[0;34m\u001b[0m\u001b[0;34m\u001b[0m\u001b[0;34m\u001b[0m\u001b[0m\n\u001b[0;32m--> 414\u001b[0;31m       \u001b[0;32mreturn\u001b[0m \u001b[0mself\u001b[0m\u001b[0;34m.\u001b[0m\u001b[0m_stateless_fn\u001b[0m\u001b[0;34m(\u001b[0m\u001b[0;34m*\u001b[0m\u001b[0margs\u001b[0m\u001b[0;34m,\u001b[0m \u001b[0;34m**\u001b[0m\u001b[0mkwds\u001b[0m\u001b[0;34m)\u001b[0m  \u001b[0;31m# pylint: disable=not-callable\u001b[0m\u001b[0;34m\u001b[0m\u001b[0;34m\u001b[0m\u001b[0m\n\u001b[0m\u001b[1;32m    415\u001b[0m     \u001b[0;32melif\u001b[0m \u001b[0mself\u001b[0m\u001b[0;34m.\u001b[0m\u001b[0m_stateful_fn\u001b[0m \u001b[0;32mis\u001b[0m \u001b[0;32mnot\u001b[0m \u001b[0;32mNone\u001b[0m\u001b[0;34m:\u001b[0m\u001b[0;34m\u001b[0m\u001b[0;34m\u001b[0m\u001b[0m\n\u001b[1;32m    416\u001b[0m       \u001b[0;31m# In this case we have not created variables on the first call. So we can\u001b[0m\u001b[0;34m\u001b[0m\u001b[0;34m\u001b[0m\u001b[0;34m\u001b[0m\u001b[0m\n",
      "\u001b[0;32m~/anaconda3/envs/tf2alpha/lib/python3.7/site-packages/tensorflow/python/eager/function.py\u001b[0m in \u001b[0;36m__call__\u001b[0;34m(self, *args, **kwargs)\u001b[0m\n\u001b[1;32m   1286\u001b[0m     \u001b[0;34m\"\"\"Calls a graph function specialized to the inputs.\"\"\"\u001b[0m\u001b[0;34m\u001b[0m\u001b[0;34m\u001b[0m\u001b[0m\n\u001b[1;32m   1287\u001b[0m     \u001b[0mgraph_function\u001b[0m\u001b[0;34m,\u001b[0m \u001b[0margs\u001b[0m\u001b[0;34m,\u001b[0m \u001b[0mkwargs\u001b[0m \u001b[0;34m=\u001b[0m \u001b[0mself\u001b[0m\u001b[0;34m.\u001b[0m\u001b[0m_maybe_define_function\u001b[0m\u001b[0;34m(\u001b[0m\u001b[0margs\u001b[0m\u001b[0;34m,\u001b[0m \u001b[0mkwargs\u001b[0m\u001b[0;34m)\u001b[0m\u001b[0;34m\u001b[0m\u001b[0;34m\u001b[0m\u001b[0m\n\u001b[0;32m-> 1288\u001b[0;31m     \u001b[0;32mreturn\u001b[0m \u001b[0mgraph_function\u001b[0m\u001b[0;34m.\u001b[0m\u001b[0m_filtered_call\u001b[0m\u001b[0;34m(\u001b[0m\u001b[0margs\u001b[0m\u001b[0;34m,\u001b[0m \u001b[0mkwargs\u001b[0m\u001b[0;34m)\u001b[0m  \u001b[0;31m# pylint: disable=protected-access\u001b[0m\u001b[0;34m\u001b[0m\u001b[0;34m\u001b[0m\u001b[0m\n\u001b[0m\u001b[1;32m   1289\u001b[0m \u001b[0;34m\u001b[0m\u001b[0m\n\u001b[1;32m   1290\u001b[0m   \u001b[0;34m@\u001b[0m\u001b[0mproperty\u001b[0m\u001b[0;34m\u001b[0m\u001b[0;34m\u001b[0m\u001b[0m\n",
      "\u001b[0;32m~/anaconda3/envs/tf2alpha/lib/python3.7/site-packages/tensorflow/python/eager/function.py\u001b[0m in \u001b[0;36m_filtered_call\u001b[0;34m(self, args, kwargs)\u001b[0m\n\u001b[1;32m    572\u001b[0m     \"\"\"\n\u001b[1;32m    573\u001b[0m     return self._call_flat(\n\u001b[0;32m--> 574\u001b[0;31m         (t for t in nest.flatten((args, kwargs))\n\u001b[0m\u001b[1;32m    575\u001b[0m          if isinstance(t, (ops.Tensor,\n\u001b[1;32m    576\u001b[0m                            resource_variable_ops.ResourceVariable))))\n",
      "\u001b[0;32m~/anaconda3/envs/tf2alpha/lib/python3.7/site-packages/tensorflow/python/eager/function.py\u001b[0m in \u001b[0;36m_call_flat\u001b[0;34m(self, args)\u001b[0m\n\u001b[1;32m    625\u001b[0m     \u001b[0;31m# Only need to override the gradient in graph mode and when we have outputs.\u001b[0m\u001b[0;34m\u001b[0m\u001b[0;34m\u001b[0m\u001b[0;34m\u001b[0m\u001b[0m\n\u001b[1;32m    626\u001b[0m     \u001b[0;32mif\u001b[0m \u001b[0mcontext\u001b[0m\u001b[0;34m.\u001b[0m\u001b[0mexecuting_eagerly\u001b[0m\u001b[0;34m(\u001b[0m\u001b[0;34m)\u001b[0m \u001b[0;32mor\u001b[0m \u001b[0;32mnot\u001b[0m \u001b[0mself\u001b[0m\u001b[0;34m.\u001b[0m\u001b[0moutputs\u001b[0m\u001b[0;34m:\u001b[0m\u001b[0;34m\u001b[0m\u001b[0;34m\u001b[0m\u001b[0m\n\u001b[0;32m--> 627\u001b[0;31m       \u001b[0moutputs\u001b[0m \u001b[0;34m=\u001b[0m \u001b[0mself\u001b[0m\u001b[0;34m.\u001b[0m\u001b[0m_inference_function\u001b[0m\u001b[0;34m.\u001b[0m\u001b[0mcall\u001b[0m\u001b[0;34m(\u001b[0m\u001b[0mctx\u001b[0m\u001b[0;34m,\u001b[0m \u001b[0margs\u001b[0m\u001b[0;34m)\u001b[0m\u001b[0;34m\u001b[0m\u001b[0;34m\u001b[0m\u001b[0m\n\u001b[0m\u001b[1;32m    628\u001b[0m     \u001b[0;32melse\u001b[0m\u001b[0;34m:\u001b[0m\u001b[0;34m\u001b[0m\u001b[0;34m\u001b[0m\u001b[0m\n\u001b[1;32m    629\u001b[0m       \u001b[0mself\u001b[0m\u001b[0;34m.\u001b[0m\u001b[0m_register_gradient\u001b[0m\u001b[0;34m(\u001b[0m\u001b[0;34m)\u001b[0m\u001b[0;34m\u001b[0m\u001b[0;34m\u001b[0m\u001b[0m\n",
      "\u001b[0;32m~/anaconda3/envs/tf2alpha/lib/python3.7/site-packages/tensorflow/python/eager/function.py\u001b[0m in \u001b[0;36mcall\u001b[0;34m(self, ctx, args)\u001b[0m\n\u001b[1;32m    413\u001b[0m             attrs=(\"executor_type\", executor_type,\n\u001b[1;32m    414\u001b[0m                    \"config_proto\", config),\n\u001b[0;32m--> 415\u001b[0;31m             ctx=ctx)\n\u001b[0m\u001b[1;32m    416\u001b[0m       \u001b[0;31m# Replace empty list with None\u001b[0m\u001b[0;34m\u001b[0m\u001b[0;34m\u001b[0m\u001b[0;34m\u001b[0m\u001b[0m\n\u001b[1;32m    417\u001b[0m       \u001b[0moutputs\u001b[0m \u001b[0;34m=\u001b[0m \u001b[0moutputs\u001b[0m \u001b[0;32mor\u001b[0m \u001b[0;32mNone\u001b[0m\u001b[0;34m\u001b[0m\u001b[0;34m\u001b[0m\u001b[0m\n",
      "\u001b[0;32m~/anaconda3/envs/tf2alpha/lib/python3.7/site-packages/tensorflow/python/eager/execute.py\u001b[0m in \u001b[0;36mquick_execute\u001b[0;34m(op_name, num_outputs, inputs, attrs, ctx, name)\u001b[0m\n\u001b[1;32m     58\u001b[0m     tensors = pywrap_tensorflow.TFE_Py_Execute(ctx._handle, device_name,\n\u001b[1;32m     59\u001b[0m                                                \u001b[0mop_name\u001b[0m\u001b[0;34m,\u001b[0m \u001b[0minputs\u001b[0m\u001b[0;34m,\u001b[0m \u001b[0mattrs\u001b[0m\u001b[0;34m,\u001b[0m\u001b[0;34m\u001b[0m\u001b[0;34m\u001b[0m\u001b[0m\n\u001b[0;32m---> 60\u001b[0;31m                                                num_outputs)\n\u001b[0m\u001b[1;32m     61\u001b[0m   \u001b[0;32mexcept\u001b[0m \u001b[0mcore\u001b[0m\u001b[0;34m.\u001b[0m\u001b[0m_NotOkStatusException\u001b[0m \u001b[0;32mas\u001b[0m \u001b[0me\u001b[0m\u001b[0;34m:\u001b[0m\u001b[0;34m\u001b[0m\u001b[0;34m\u001b[0m\u001b[0m\n\u001b[1;32m     62\u001b[0m     \u001b[0;32mif\u001b[0m \u001b[0mname\u001b[0m \u001b[0;32mis\u001b[0m \u001b[0;32mnot\u001b[0m \u001b[0;32mNone\u001b[0m\u001b[0;34m:\u001b[0m\u001b[0;34m\u001b[0m\u001b[0;34m\u001b[0m\u001b[0m\n",
      "\u001b[0;31mKeyboardInterrupt\u001b[0m: "
     ]
    }
   ],
   "source": [
    "import time\n",
    "\n",
    "trn_acc_metric = tf.keras.metrics.BinaryAccuracy()\n",
    "val_acc_metric = tf.keras.metrics.BinaryAccuracy()\n",
    "\n",
    "steps_per_epoch = len(x_train)//BATCH_SIZE\n",
    "\n",
    "EPOCHS = 30\n",
    "trn_loss_list = []\n",
    "val_loss_list = []\n",
    "\n",
    "for epoch in range(EPOCHS):\n",
    "    start = time.time()\n",
    "    total_loss = 0\n",
    "    val_total_loss = 0\n",
    "    \n",
    "    hidden = model.reset_states()\n",
    "    for batch, ((trn_inp, trn_targ), (val_inp, val_targ)) in enumerate(zip(train_dataset.take(steps_per_epoch), test_dataset.take(steps_per_epoch))):\n",
    "        batch_loss = train_step(trn_inp, trn_targ)\n",
    "        total_loss += batch_loss\n",
    "        trn_loss_list.append(batch_loss)\n",
    "\n",
    "        val_loss = val_step(val_inp, val_targ)\n",
    "        val_total_loss += val_loss\n",
    "        val_loss_list.append(val_loss)\n",
    "\n",
    "        if batch%100==0:\n",
    "              print('Epoch {} Batch {} Trn Loss {:.4f} Val Loss {:.4f} Trn_Acc {:.2f} Val_Acc {:.2f}'.format(epoch + 1,\n",
    "                                                                                                             batch,\n",
    "                                                                                                             batch_loss.numpy(),\n",
    "                                                                                                             val_loss.numpy(),\n",
    "                                                                                                             trn_acc_metric.result().numpy(),\n",
    "                                                                                                             val_acc_metric.result().numpy()))\n",
    "    # saving (checkpoint) the model every 2 epochs\n",
    "    if (epoch + 1) % 2 == 0:\n",
    "        checkpoint.save(file_prefix = checkpoint_prefix)\n",
    "\n",
    "    print('Epoch {} Trn Loss {:.4f}'.format(epoch + 1,\n",
    "                                      total_loss / steps_per_epoch))\n",
    "    print('Epoch {} Val Loss {:.4f}'.format(epoch + 1,\n",
    "                                      val_total_loss / steps_per_epoch))\n",
    "    print('Time taken for 1 epoch {} sec\\n'.format(time.time() - start))"
   ]
  },
  {
   "cell_type": "code",
   "execution_count": 64,
   "metadata": {},
   "outputs": [
    {
     "data": {
      "image/png": "[encoded data removed]",
      "text/plain": [
       "<Figure size 432x288 with 1 Axes>"
      ]
     },
     "metadata": {
      "needs_background": "light"
     },
     "output_type": "display_data"
    }
   ],
   "source": [
    "import matplotlib.pyplot as plt\n",
    "\n",
    "plt.plot(trn_loss_list)\n",
    "plt.plot(val_loss_list)\n",
    "plt.xlabel('Epochs')\n",
    "plt.ylabel('Loss')\n",
    "plt.title('Loss Plot')\n",
    "plt.show()"
   ]
  },
  {
   "cell_type": "code",
   "execution_count": 65,
   "metadata": {},
   "outputs": [],
   "source": [
    "model.save_weights('pre-deploy_models/imdbEager.h5')"
   ]
  },
  {
   "cell_type": "markdown",
   "metadata": {},
   "source": [
    "# Test Model"
   ]
  },
  {
   "cell_type": "code",
   "execution_count": 66,
   "metadata": {},
   "outputs": [],
   "source": [
    "import tensorflow as tf\n",
    "import pandas as pd\n",
    "import numpy as np\n",
    "import re\n",
    "import os"
   ]
  },
  {
   "cell_type": "code",
   "execution_count": 96,
   "metadata": {},
   "outputs": [],
   "source": [
    "with open('tokenizer_imdb.pickle', 'rb') as handle:\n",
    "    tokenizer = pickle.load(handle)\n",
    "    \n",
    "vocab_size = len(tokenizer.word_index) + 1\n",
    "\n",
    "test_sentence = ['Sapura Energy bags 5 new contracts worth RM1.3 billion - Free Malaysia Today', \n",
    "                 'BREAKING: Trump just signed two executive orders that seek to expedite permits for pipelines and other fossil fuel projects by restricting public input and states authority.',\n",
    "                'Number of companies producing oil and gas in Western Canada drops 17.5% since 2014', \n",
    "                'Wheelchair customers stuck out in the pouring rain when the cab was booked in advance is OUTRAGEOUS. This cab is now 55 minutes late and my client has missed a VERY important DRs appt. BRING #Uber TO VANCOUVER if anything just to SCREW with @vancouvertaxi customers. @NEWS1130',\n",
    "                'Uber worst service... Cab booked to take 1.5 year child to doctor and cab did not come more then 1hr driver not answering and not cancelling the ride...',\n",
    "                'That #Uber ad sums up that company!! I’ve no sympathy for anyone male or female who uses em and becomes unstuck! They’re not even fucking cheap that’s a myth! Use your local mini cab firm n black cabs in London! Let’s keep money in England ay n drive this firm out!',\n",
    "                'Uber is awesome!',\n",
    "                'Looking forward to your  presentation at Benzinga next week! Armenians represent! ']\n",
    "\n",
    "test_sentence = tokenizer.texts_to_sequences(test_sentence)\n",
    "test_sentence = sequence.pad_sequences(test_sentence, maxlen=max_length, padding=\"post\")"
   ]
  },
  {
   "cell_type": "code",
   "execution_count": 97,
   "metadata": {},
   "outputs": [
    {
     "name": "stderr",
     "output_type": "stream",
     "text": [
      "W0413 16:28:37.887531 139752145893184 tf_logging.py:161] <tensorflow.python.keras.layers.recurrent.UnifiedLSTM object at 0x7f19f9d6f6d8>: Note that this layer is not optimized for performance. Please use tf.keras.layers.CuDNNLSTM for better performance on GPU.\n",
      "W0413 16:28:37.895192 139752145893184 tf_logging.py:161] <tensorflow.python.keras.layers.recurrent.UnifiedLSTM object at 0x7f19fc7f7438>: Note that this layer is not optimized for performance. Please use tf.keras.layers.CuDNNLSTM for better performance on GPU.\n"
     ]
    }
   ],
   "source": [
    "from tensorflow.keras.models import Sequential\n",
    "from tensorflow.keras.layers import Input, Dense, Embedding, SpatialDropout1D, Dropout, add, concatenate, Flatten, Embedding\n",
    "from tensorflow.keras.layers import Bidirectional, GlobalMaxPooling1D, GlobalAveragePooling1D, Input, LSTM\n",
    "from tensorflow.compat.v1.keras.layers import CuDNNLSTM, CuDNNGRU\n",
    "\n",
    "class MyLSTM(tf.keras.Model):\n",
    "    def __init__(self):\n",
    "        super(MyLSTM, self).__init__()\n",
    "        self.embedding = Embedding(vocab_size, EMBEDDING_DIM, input_length=max_length)\n",
    "        self.dropout1 = SpatialDropout1D(0.3)\n",
    "        self.lstm1 = Bidirectional(LSTM(LSTM_UNITS, return_sequences=True, dropout=0.2))\n",
    "        self.gmp = GlobalMaxPooling1D()\n",
    "        self.dense1 = Dense(100, activation='relu')\n",
    "        self.dropout2 = Dropout(0.2)\n",
    "        self.denseOut = Dense(1, activation='sigmoid')\n",
    "    \n",
    "    def call(self, x):\n",
    "        x = self.embedding(x)\n",
    "        x = self.dropout1(x)\n",
    "        x = self.lstm1(x)\n",
    "        x = self.gmp(x)\n",
    "        x = self.dense1(x)\n",
    "        x = self.dropout2(x)\n",
    "        x = self.denseOut(x)\n",
    "        return x\n",
    "    \n",
    "model = MyLSTM()\n",
    "model.build(input_shape=(vocab_size, max_length))\n",
    "model.load_weights('pre-deploy_models/imdbEager.h5')"
   ]
  },
  {
   "cell_type": "code",
   "execution_count": 98,
   "metadata": {},
   "outputs": [],
   "source": [
    "model.load_weights('pre-deploy_models/imdbEager.h5')"
   ]
  },
  {
   "cell_type": "code",
   "execution_count": 99,
   "metadata": {},
   "outputs": [
    {
     "data": {
      "text/plain": [
       "array([[9.9991095e-01],\n",
       "       [9.9998152e-01],\n",
       "       [0.0000000e+00],\n",
       "       [1.0728836e-06],\n",
       "       [0.0000000e+00],\n",
       "       [0.0000000e+00],\n",
       "       [1.0000000e+00],\n",
       "       [9.9390018e-01]], dtype=float32)"
      ]
     },
     "execution_count": 99,
     "metadata": {},
     "output_type": "execute_result"
    }
   ],
   "source": [
    "test_sentence = ['Sapura Energy bags 5 new contracts worth RM1.3 billion - Free Malaysia Today', \n",
    "                 'BREAKING: Trump just signed two executive orders that seek to expedite permits for pipelines and other fossil fuel projects by restricting public input and states authority.',\n",
    "                'Number of companies producing oil and gas in Western Canada drops 17.5% since 2014', \n",
    "                'Wheelchair customers stuck out in the pouring rain when the cab was booked in advance is OUTRAGEOUS. This cab is now 55 minutes late and my client has missed a VERY important DRs appt. BRING #Uber TO VANCOUVER if anything just to SCREW with @vancouvertaxi customers. @NEWS1130',\n",
    "                'Uber worst service... Cab booked to take 1.5 year child to doctor and cab did not come more then 1hr driver not answering and not cancelling the ride...',\n",
    "                'That #Uber ad sums up that company!! I’ve no sympathy for anyone male or female who uses em and becomes unstuck! They’re not even fucking cheap that’s a myth! Use your local mini cab firm n black cabs in London! Let’s keep money in England ay n drive this firm out!',\n",
    "                'Uber is awesome!',\n",
    "                'Looking forward to your  presentation at Benzinga next week! Armenians represent! ']\n",
    "\n",
    "model.predict(test_sentence)"
   ]
  }
 ],
 "metadata": {
  "kernelspec": {
   "display_name": "Python 3",
   "language": "python",
   "name": "python3"
  },
  "language_info": {
   "codemirror_mode": {
    "name": "ipython",
    "version": 3
   },
   "file_extension": ".py",
   "mimetype": "text/x-python",
   "name": "python",
   "nbconvert_exporter": "python",
   "pygments_lexer": "ipython3",
   "version": "3.6.8"
  },
  "latex_envs": {
   "LaTeX_envs_menu_present": true,
   "autoclose": false,
   "autocomplete": true,
   "bibliofile": "biblio.bib",
   "cite_by": "apalike",
   "current_citInitial": 1,
   "eqLabelWithNumbers": true,
   "eqNumInitial": 1,
   "hotkeys": {
    "equation": "Ctrl-E",
    "itemize": "Ctrl-I"
   },
   "labels_anchors": false,
   "latex_user_defs": false,
   "report_style_numbering": false,
   "user_envs_cfg": false
  }
 },
 "nbformat": 4,
 "nbformat_minor": 2
}
