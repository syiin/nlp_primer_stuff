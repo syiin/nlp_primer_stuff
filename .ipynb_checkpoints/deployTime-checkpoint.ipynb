{
 "cells": [
  {
   "cell_type": "markdown",
   "metadata": {},
   "source": [
    "# Initial Model Testing"
   ]
  },
  {
   "cell_type": "code",
   "execution_count": 20,
   "metadata": {},
   "outputs": [
    {
     "name": "stdout",
     "output_type": "stream",
     "text": [
      "2.0.0-alpha0\n"
     ]
    }
   ],
   "source": [
    "import os\n",
    "import numpy as np\n",
    "import pandas as pd\n",
    "import tensorflow as tf\n",
    "import re\n",
    "import seaborn as sns\n",
    "import matplotlib.pyplot as plt\n",
    "from pathlib import Path\n",
    "\n",
    "from sklearn.preprocessing import MultiLabelBinarizer\n",
    "\n",
    "print(tf.__version__)"
   ]
  },
  {
   "cell_type": "code",
   "execution_count": 21,
   "metadata": {},
   "outputs": [],
   "source": [
    "def tokenize_and_pad(test_sentence):\n",
    "    test_sentence = tokenizer.texts_to_sequences([test_sentence])\n",
    "    test_sentence = sequence.pad_sequences(test_sentence, maxlen=max_length, padding=\"post\")\n",
    "    return test_sentence"
   ]
  },
  {
   "cell_type": "code",
   "execution_count": 22,
   "metadata": {},
   "outputs": [
    {
     "data": {
      "text/plain": [
       "array([[1699, 8860,  451, ...,    0,    0,    0]], dtype=int32)"
      ]
     },
     "execution_count": 22,
     "metadata": {},
     "output_type": "execute_result"
    }
   ],
   "source": [
    "from tensorflow.keras.preprocessing import text, sequence\n",
    "import pickle\n",
    "\n",
    "with open('tokenizer_imdb.pickle', 'rb') as handle:\n",
    "    tokenizer = pickle.load(handle)\n",
    "    \n",
    "max_length = 2722\n",
    "vocab_size = len(tokenizer.word_index) + 1\n",
    "\n",
    "# test_sentence = ['Sapura Energy bags 5 new contracts worth RM1.3 billion - Free Malaysia Today', \n",
    "#                  'BREAKING: Trump just signed two executive orders that seek to expedite permits for pipelines and other fossil fuel projects by restricting public input and states authority.',\n",
    "#                 'Number of companies producing oil and gas in Western Canada drops 17.5% since 2014', \n",
    "#                 'Wheelchair customers stuck out in the pouring rain when the cab was booked in advance is OUTRAGEOUS. This cab is now 55 minutes late and my client has missed a VERY important DRs appt. BRING #Uber TO VANCOUVER if anything just to SCREW with @vancouvertaxi customers. @NEWS1130',\n",
    "#                 'Uber worst service... Cab booked to take 1.5 year child to doctor and cab did not come more then 1hr driver not answering and not cancelling the ride...',\n",
    "#                 'That #Uber ad sums up that company!! I’ve no sympathy for anyone male or female who uses em and becomes unstuck! They’re not even fucking cheap that’s a myth! Use your local mini cab firm n black cabs in London! Let’s keep money in England ay n drive this firm out!',\n",
    "#                 'Uber is awesome!',\n",
    "#                 'Looking forward to your  presentation at Benzinga next week! Armenians represent! ']\n",
    "\n",
    "\n",
    "test_sentence = tokenize_and_pad('Sapura Energy bags 5 new contracts worth RM1.3 billion - Free Malaysia Today')\n",
    "\n",
    "\n",
    "# test_sentence = tokenizer.texts_to_sequences(test_sentence)\n",
    "# test_sentence = sequence.pad_sequences(test_sentence, maxlen=max_length, padding=\"post\")\n",
    "test_sentence"
   ]
  },
  {
   "cell_type": "code",
   "execution_count": 1,
   "metadata": {},
   "outputs": [
    {
     "ename": "ModuleNotFoundError",
     "evalue": "No module named 'tensorflow.compat.v1'",
     "output_type": "error",
     "traceback": [
      "\u001b[0;31m---------------------------------------------------------------------------\u001b[0m",
      "\u001b[0;31mModuleNotFoundError\u001b[0m                       Traceback (most recent call last)",
      "\u001b[0;32m<ipython-input-1-c7f05eca8cef>\u001b[0m in \u001b[0;36m<module>\u001b[0;34m\u001b[0m\n\u001b[1;32m      2\u001b[0m \u001b[0;32mfrom\u001b[0m \u001b[0mtensorflow\u001b[0m\u001b[0;34m.\u001b[0m\u001b[0mkeras\u001b[0m\u001b[0;34m.\u001b[0m\u001b[0mlayers\u001b[0m \u001b[0;32mimport\u001b[0m \u001b[0mInput\u001b[0m\u001b[0;34m,\u001b[0m \u001b[0mDense\u001b[0m\u001b[0;34m,\u001b[0m \u001b[0mEmbedding\u001b[0m\u001b[0;34m,\u001b[0m \u001b[0mSpatialDropout1D\u001b[0m\u001b[0;34m,\u001b[0m \u001b[0mDropout\u001b[0m\u001b[0;34m,\u001b[0m \u001b[0madd\u001b[0m\u001b[0;34m,\u001b[0m \u001b[0mconcatenate\u001b[0m\u001b[0;34m,\u001b[0m \u001b[0mFlatten\u001b[0m\u001b[0;34m,\u001b[0m \u001b[0mEmbedding\u001b[0m\u001b[0;34m\u001b[0m\u001b[0;34m\u001b[0m\u001b[0m\n\u001b[1;32m      3\u001b[0m \u001b[0;32mfrom\u001b[0m \u001b[0mtensorflow\u001b[0m\u001b[0;34m.\u001b[0m\u001b[0mkeras\u001b[0m\u001b[0;34m.\u001b[0m\u001b[0mlayers\u001b[0m \u001b[0;32mimport\u001b[0m \u001b[0mBidirectional\u001b[0m\u001b[0;34m,\u001b[0m \u001b[0mGlobalMaxPooling1D\u001b[0m\u001b[0;34m,\u001b[0m \u001b[0mGlobalAveragePooling1D\u001b[0m\u001b[0;34m,\u001b[0m \u001b[0mInput\u001b[0m\u001b[0;34m,\u001b[0m \u001b[0mLSTM\u001b[0m\u001b[0;34m\u001b[0m\u001b[0;34m\u001b[0m\u001b[0m\n\u001b[0;32m----> 4\u001b[0;31m \u001b[0;32mfrom\u001b[0m \u001b[0mtensorflow\u001b[0m\u001b[0;34m.\u001b[0m\u001b[0mcompat\u001b[0m\u001b[0;34m.\u001b[0m\u001b[0mv1\u001b[0m\u001b[0;34m.\u001b[0m\u001b[0mkeras\u001b[0m\u001b[0;34m.\u001b[0m\u001b[0mlayers\u001b[0m \u001b[0;32mimport\u001b[0m \u001b[0mCuDNNLSTM\u001b[0m\u001b[0;34m,\u001b[0m \u001b[0mCuDNNGRU\u001b[0m\u001b[0;34m\u001b[0m\u001b[0;34m\u001b[0m\u001b[0m\n\u001b[0m",
      "\u001b[0;31mModuleNotFoundError\u001b[0m: No module named 'tensorflow.compat.v1'"
     ]
    }
   ],
   "source": [
    "from tensorflow.keras.models import Sequential\n",
    "from tensorflow.keras.layers import Input, Dense, Embedding, SpatialDropout1D, Dropout, add, concatenate, Flatten, Embedding\n",
    "from tensorflow.keras.layers import Bidirectional, GlobalMaxPooling1D, GlobalAveragePooling1D, Input, LSTM\n",
    "# from tensorflow.compat.v1.keras.layers import CuDNNLSTM, CuDNNGRU"
   ]
  },
  {
   "cell_type": "code",
   "execution_count": 23,
   "metadata": {},
   "outputs": [
    {
     "name": "stderr",
     "output_type": "stream",
     "text": [
      "W0414 17:45:30.686372 140124052678464 tf_logging.py:161] <tensorflow.python.keras.layers.recurrent.UnifiedLSTM object at 0x7f70981747b8>: Note that this layer is not optimized for performance. Please use tf.keras.layers.CuDNNLSTM for better performance on GPU.\n",
      "W0414 17:45:30.692727 140124052678464 tf_logging.py:161] <tensorflow.python.keras.layers.recurrent.UnifiedLSTM object at 0x7f6d1518a198>: Note that this layer is not optimized for performance. Please use tf.keras.layers.CuDNNLSTM for better performance on GPU.\n"
     ]
    }
   ],
   "source": [
    "BATCH_SIZE = 64\n",
    "EMBEDDING_DIM = 500\n",
    "LSTM_UNITS = 256\n",
    "DENSE_UNITS = LSTM_UNITS * 4\n",
    "\n",
    "class MyLSTM(tf.keras.Model):\n",
    "    def __init__(self):\n",
    "        super(MyLSTM, self).__init__()\n",
    "        self.embedding = Embedding(vocab_size, EMBEDDING_DIM, input_length=max_length)\n",
    "        self.dropout1 = SpatialDropout1D(0.3)\n",
    "        self.lstm1 = Bidirectional(LSTM(LSTM_UNITS, return_sequences=True, dropout=0.2))\n",
    "        self.gmp = GlobalMaxPooling1D()\n",
    "        self.dense1 = Dense(100, activation='relu')\n",
    "        self.dropout2 = Dropout(0.2)\n",
    "        self.denseOut = Dense(1, activation='sigmoid')\n",
    "    \n",
    "    def call(self, x):\n",
    "        x = self.embedding(x)\n",
    "        x = self.dropout1(x)\n",
    "        x = self.lstm1(x)\n",
    "        x = self.gmp(x)\n",
    "        x = self.dense1(x)\n",
    "        x = self.dropout2(x)\n",
    "        x = self.denseOut(x)\n",
    "        return x\n",
    "    \n",
    "model = MyLSTM()\n",
    "model.build(input_shape=(vocab_size, max_length))\n",
    "model.load_weights('pre-deploy_models/imdbEager.h5')"
   ]
  },
  {
   "cell_type": "code",
   "execution_count": null,
   "metadata": {},
   "outputs": [],
   "source": [
    "def build_model(embedding_matrix):\n",
    "    words = Input(shape=(max_length,))\n",
    "    x = Embedding(*embedding_matrix.shape, weights=[embedding_matrix], trainable=False)(words)\n",
    "    x = SpatialDropout1D(0.3)(x)\n",
    "    x = Bidirectional(CuDNNLSTM(LSTM_UNITS, \n",
    "                           return_sequences=True))(x)\n",
    "    x = Bidirectional(CuDNNLSTM(LSTM_UNITS, \n",
    "                           return_sequences=True))(x)\n",
    "\n",
    "    hidden = concatenate([\n",
    "        GlobalMaxPooling1D()(x),\n",
    "        GlobalAveragePooling1D()(x),\n",
    "    ])\n",
    "    hidden = add([hidden, Dense(DENSE_UNITS, activation='relu')(hidden)])\n",
    "    hidden = Dropout(0.2)(hidden)\n",
    "    hidden = add([hidden, Dense(DENSE_UNITS, activation='relu')(hidden)])\n",
    "    result = Dense(1, activation='sigmoid')(hidden)\n",
    "    \n",
    "    model = Model(inputs=words, outputs=result)\n",
    "    model.compile(loss='binary_crossentropy', optimizer='adam', metrics=['acc'])\n",
    "\n",
    "    return model"
   ]
  },
  {
   "cell_type": "code",
   "execution_count": 24,
   "metadata": {},
   "outputs": [
    {
     "data": {
      "text/plain": [
       "array([[0.99991095]], dtype=float32)"
      ]
     },
     "execution_count": 24,
     "metadata": {},
     "output_type": "execute_result"
    }
   ],
   "source": [
    "model.predict(test_sentence)"
   ]
  },
  {
   "cell_type": "markdown",
   "metadata": {},
   "source": [
    "# Scraper Feed"
   ]
  },
  {
   "cell_type": "code",
   "execution_count": 104,
   "metadata": {},
   "outputs": [
    {
     "name": "stdout",
     "output_type": "stream",
     "text": [
      "13 Apr 2019 https://www.businesstimes.com.sg/energy-commodities/oil-rises-1-on-tightening-crude-supply-upbeat-economic-data\n",
      "11 Apr 2019 https://www.businesstimes.com.sg/energy-commodities/oil-rallies-as-us-petrol-inventory-draw-offsets-crude-build\n",
      "10 Apr 2019 https://www.businesstimes.com.sg/companies-markets/crude-oil-price-rally-propels-commodity-currencies\n",
      "08 Apr 2019 https://www.businesstimes.com.sg/energy-commodities/crude-oil-market-rallies-on-fading-fears-of-a-glut\n",
      "05 Apr 2019 https://www.businesstimes.com.sg/energy-commodities/oil-eases-as-us-crude-stocks-build-up\n",
      "04 Apr 2019 https://www.businesstimes.com.sg/energy-commodities/oil-eases-on-us-crude-stock-build-but-holds-near-5-month-high\n",
      "01 Apr 2019 https://www.businesstimes.com.sg/government-economy/saudi-arabias-economy-expands-in-q4-on-boost-from-crude-non-oil-growth-slows\n",
      "28 Mar 2019 https://www.businesstimes.com.sg/energy-commodities/oil-prices-sink-after-surprise-us-crude-stock-build\n",
      "20 Mar 2019 https://www.businesstimes.com.sg/energy-commodities/crude-oil-prices-hit-years-peak-on-output-cuts-geopolitics\n",
      "11 Mar 2019 https://www.businesstimes.com.sg/energy-commodities/opec-crude-oil-shipments-to-us-sink-to-30-year-low\n",
      "07 Mar 2019 https://www.businesstimes.com.sg/energy-commodities/oil-prices-end-mixed-after-us-crude-stocks-build-sharply\n",
      "28 Feb 2019 https://www.businesstimes.com.sg/energy-commodities/oil-rises-2-as-us-crude-stocks-plunge-opec-brushes-off-trump\n",
      "22 Feb 2019 https://www.businesstimes.com.sg/energy-commodities/oil-off-this-years-highs-as-us-crude-stocks-and-supply-grows\n",
      "11 Feb 2019 https://www.businesstimes.com.sg/energy-commodities/gushing-profits-for-oil-majors-on-crude-price-surge\n",
      "01 Feb 2019 https://www.businesstimes.com.sg/energy-commodities/oil-prices-rise-on-drop-in-saudi-crude-supply-to-us\n",
      "22 Jan 2019 https://www.businesstimes.com.sg/energy-commodities/oil-hits-2019-high-on-china-crude-use-but-slowdown-looms\n",
      "14 Jan 2019 https://www.businesstimes.com.sg/energy-commodities/oil-slides-on-china-trade-slump-but-crude-imports-remain-high\n",
      "01 Jan 2019 https://www.businesstimes.com.sg/energy-commodities/india-cuts-tax-on-crude-refined-palm-oil-imports-from-asean-countries\n",
      "03 Dec 2018 https://www.businesstimes.com.sg/energy-commodities/alpha-energy-pushes-for-first-oil-in-alaska-despite-crude-slump\n",
      "10 Nov 2018 https://www.businesstimes.com.sg/energy-commodities/oil-falls-1-us-crude-on-longest-losing-streak-since-1984\n",
      "09 Nov 2018 https://www.businesstimes.com.sg/energy-commodities/oil-rises-on-record-chinese-crude-imports-but-us-output-caps-gains\n",
      "08 Nov 2018 https://www.businesstimes.com.sg/energy-commodities/oil-slips-after-us-output-hits-record-crude-stocks-rise\n",
      "08 Nov 2018 https://www.businesstimes.com.sg/energy-commodities/trumps-iran-crude-oil-waivers-may-just-delay-day-of-reckoning\n",
      "06 Nov 2018 https://www.businesstimes.com.sg/energy-commodities/s-korea-gets-us-exemption-on-iranian-crude-oil-imports\n",
      "18 Oct 2018 https://www.businesstimes.com.sg/energy-commodities/us-oil-service-companies-face-tough-quarter-despite-high-crude-prices\n",
      "16 Oct 2018 https://www.businesstimes.com.sg/energy-commodities/crude-oil-futures-rise-on-saudi-tensions\n",
      "10 Oct 2018 https://www.businesstimes.com.sg/energy-commodities/oil-prices-gain-as-iranian-crude-exports-fall-hurricane-michael-nears\n",
      "10 Oct 2018 https://www.businesstimes.com.sg/energy-commodities/oil-prices-rise-as-iranian-crude-exports-fall\n",
      "08 Oct 2018 https://www.businesstimes.com.sg/energy-commodities/oil-prices-fall-as-us-may-grant-some-waivers-on-iran-crude-sanctions\n",
      "03 Sep 2018 https://www.businesstimes.com.sg/energy-commodities/brent-crude-oil-dips-on-rising-opec-output-looming-sanctions-on-iran-prevent\n",
      "23 Aug 2018 https://www.businesstimes.com.sg/energy-commodities/us-oil-extends-gains-after-crude-inventories-fall\n",
      "16 Aug 2018 https://www.businesstimes.com.sg/energy-commodities/oil-tumbles-on-surprise-build-in-us-crude-inventories\n",
      "08 Aug 2018 https://www.businesstimes.com.sg/transport/cathay-pacific-slumps-to-surprise-loss-as-crude-oil-hobbles-recovery\n",
      "04 Aug 2018 https://www.businesstimes.com.sg/energy-commodities/crude-oil-dips-as-china-plans-tariffs-to-counter-trump\n",
      "26 Jul 2018 https://www.businesstimes.com.sg/energy-commodities/oil-gains-as-us-crude-stocks-fall-to-lowest-since-feb-2015\n",
      "12 Jul 2018 https://www.businesstimes.com.sg/energy-commodities/crude-oil-benchmark-brent-sees-biggest-one-day-fall-in-two-years\n",
      "06 Jul 2018 https://www.businesstimes.com.sg/energy-commodities/oil-slips-as-us-crude-stockpiles-show-surprise-build\n",
      "05 Jul 2018 https://www.businesstimes.com.sg/energy-commodities/oil-falls-as-trump-urges-opec-to-cut-prices-potential-china-duty-on-us-crude\n",
      "05 Jul 2018 https://www.businesstimes.com.sg/energy-commodities/brent-crude-firm-on-drop-in-us-oil-inventories-iran-threat\n",
      "05 Jul 2018 https://www.businesstimes.com.sg/energy-commodities/saudi-plans-first-change-in-asia-crude-oil-price-formula-in-decades-to-use-dme\n",
      "29 Jun 2018 https://www.businesstimes.com.sg/energy-commodities/oil-prices-slip-on-trade-frictions-but-crude-market-remains-tight\n",
      "28 Jun 2018 https://www.businesstimes.com.sg/energy-commodities/libya-state-oil-confident-eastern-rival-cant-ship-crude\n",
      "27 Jun 2018 https://www.businesstimes.com.sg/energy-commodities/oil-surges-as-us-pushes-allies-to-halt-imports-of-iranian-crude\n",
      "26 Jun 2018 https://www.businesstimes.com.sg/energy-commodities/oil-drops-as-market-braces-for-more-opec-crude-and-wall-street-slips\n",
      "14 Jun 2018 https://www.businesstimes.com.sg/energy-commodities/oil-prices-fall-as-us-crude-production-hits-another-record\n",
      "07 Jun 2018 https://www.businesstimes.com.sg/energy-commodities/oil-falls-on-us-crude-build-global-supply-seen-rising\n",
      "05 Jun 2018 https://www.businesstimes.com.sg/energy-commodities/oil-falls-2-us-crude-hits-lowest-since-early-april\n",
      "02 Jun 2018 https://www.businesstimes.com.sg/energy-commodities/oil-retreats-on-stronger-us-dollar-us-crude-discount-wider\n",
      "01 Jun 2018 https://www.businesstimes.com.sg/energy-commodities/us-and-brent-crude-part-ways-leaving-market-flummoxed-over-oil-prices\n",
      "31 May 2018 https://www.businesstimes.com.sg/energy-commodities/oil-climbs-over-2-shrugs-off-apis-us-crude-build\n",
      "16 May 2018 https://www.businesstimes.com.sg/energy-commodities/iea-cuts-outlook-for-global-oil-demand-as-crude-nears-us80-a-barrel\n",
      "15 May 2018 http://www.businesstimes.com.sg/banking-finance/oil-gains-while-us-crudes-discount-to-brent-deepens\n",
      "18 Apr 2018 http://www.businesstimes.com.sg/energy-commodities/oil-prices-rise-on-crude-supply-worry-wall-street-strength\n",
      "06 Apr 2018 http://www.businesstimes.com.sg/energy-commodities/oil-climbs-with-equities-saudi-arabia-hikes-crude-prices\n",
      "30 Mar 2018 http://www.businesstimes.com.sg/energy-commodities/oil-prices-rise-with-wall-street-us-crude-discount-widens\n",
      "29 Mar 2018 http://www.businesstimes.com.sg/energy-commodities/oil-falls-about-1-after-surprise-us-crude-build\n",
      "27 Mar 2018 http://www.businesstimes.com.sg/energy-commodities/shanghai-oil-futures-make-strong-debut-but-crude-prices-dip-on-trade-fears\n",
      "20 Mar 2018 http://www.businesstimes.com.sg/energy-commodities/oil-dips-as-wall-street-dives-tensions-over-iran-support-crude\n",
      "16 Mar 2018 http://www.businesstimes.com.sg/energy-commodities/oil-edges-up-but-rising-crude-supply-checks-gains\n",
      "15 Mar 2018 http://www.businesstimes.com.sg/energy-commodities/oil-down-slightly-in-choppy-session-on-mixed-us-crude-stocks-data\n",
      "08 Mar 2018 http://www.businesstimes.com.sg/energy-commodities/oil-prices-fall-with-wall-street-and-as-us-crude-output-stocks-rise\n",
      "03 Mar 2018 http://www.businesstimes.com.sg/energy-commodities/oil-rises-as-wall-street-bounces-off-lows-crude-posts-weekly-loss\n",
      "02 Mar 2018 http://www.businesstimes.com.sg/energy-commodities/oil-slides-on-wall-street-slump-and-crude-supply-worry\n",
      "01 Mar 2018 http://www.businesstimes.com.sg/energy-commodities/oil-prices-fall-on-weak-asian-industry-data-and-rise-in-us-crude-stocks\n",
      "28 Feb 2018 http://www.businesstimes.com.sg/energy-commodities/oil-prices-dip-before-us-crude-inventory-data\n",
      "23 Feb 2018 http://www.businesstimes.com.sg/energy-commodities/oil-prices-climb-after-unexpected-drawdown-in-us-crude-stocks\n",
      "08 Feb 2018 http://www.businesstimes.com.sg/energy-commodities/oil-hits-one-month-low-on-us-crude-stocks-build-record-output\n"
     ]
    },
    {
     "name": "stdout",
     "output_type": "stream",
     "text": [
      "08 Feb 2018 http://www.businesstimes.com.sg/energy-commodities/report-of-lower-us-crude-inventories-gives-lift-to-oil-prices\n",
      "07 Feb 2018 http://www.businesstimes.com.sg/energy-commodities/oil-prices-rise-on-report-of-lower-us-crude-inventories\n",
      "26 Jan 2018 http://www.businesstimes.com.sg/energy-commodities/oil-firms-as-us-dollar-falls-further-but-weaker-crude-demand-looms\n",
      "24 Jan 2018 http://www.businesstimes.com.sg/energy-commodities/oil-hedge-fund-bbl-sees-crude-at-us80-after-opec-cuts\n",
      "19 Jan 2018 http://www.businesstimes.com.sg/energy-commodities/saudis-refined-oil-exports-offset-crude-curbs\n",
      "19 Jan 2018 http://www.businesstimes.com.sg/energy-commodities/oil-little-changed-after-record-crude-draw-at-us-hub\n",
      "11 Jan 2018 http://www.businesstimes.com.sg/energy-commodities/us-crude-inventory-fall-buoys-oil-worries-about-rally-persist\n",
      "21 Dec 2017 http://www.businesstimes.com.sg/energy-commodities/fall-in-us-crude-oil-stocks-north-sea-outage-supports-prices\n",
      "14 Dec 2017 http://www.businesstimes.com.sg/energy-commodities/oil-slips-as-us-petrol-stock-build-overshadows-crude-draw\n",
      "13 Dec 2017 http://www.businesstimes.com.sg/energy-commodities/crack-in-uk-oil-pipe-roils-crude-trading-from-us-to-asia\n",
      "12 Dec 2017 http://www.businesstimes.com.sg/energy-commodities/indonesias-pertamina-expects-to-import-up-to-250000-bpd-of-crude-oil-in-2018\n",
      "06 Dec 2017 http://www.businesstimes.com.sg/energy-commodities/oil-rises-in-anticipation-of-another-us-crude-drawdown\n",
      "05 Dec 2017 http://www.businesstimes.com.sg/banking-finance/shanghai-exchange-to-hold-practice-session-for-crude-oil-futures\n",
      "29 Nov 2017 http://www.businesstimes.com.sg/energy-commodities/oil-falls-on-doubts-over-extending-output-cuts-surprise-rise-in-us-crude-stocks\n",
      "16 Nov 2017 http://www.businesstimes.com.sg/energy-commodities/oil-prices-settle-lower-after-us-crude-stocks-rise\n",
      "09 Nov 2017 http://www.businesstimes.com.sg/energy-commodities/oil-settles-lower-as-us-crude-output-up-china-imports-down\n",
      "09 Nov 2017 http://www.businesstimes.com.sg/energy-commodities/oil-prices-dip-on-lower-chinese-crude-imports\n",
      "02 Nov 2017 http://www.businesstimes.com.sg/energy-commodities/oil-slips-erases-gains-as-us-crude-draw-shy-of-api-report\n",
      "01 Nov 2017 http://www.businesstimes.com.sg/energy-commodities/oil-up-near-2-year-highs-analysts-see-more-us-crude-exports\n",
      "31 Oct 2017 http://www.businesstimes.com.sg/stocks/hot-stock-oil-gas-explorers-ride-crude-surge\n",
      "05 Oct 2017 http://www.businesstimes.com.sg/energy-commodities/oil-slips-after-surprising-increase-in-us-crude-exports\n",
      "26 Sep 2017 http://www.businesstimes.com.sg/energy-commodities/oil-trader-trafigura-heralds-end-of-lower-for-longer-crude-era\n",
      "21 Sep 2017 http://www.businesstimes.com.sg/energy-commodities/oil-up-2-despite-us-crude-build-set-for-best-3rd-quarter-since-2004\n",
      "14 Sep 2017 http://www.businesstimes.com.sg/energy-commodities/oil-rises-as-iea-forecast-overshadows-us-crude-build\n",
      "24 Aug 2017 http://www.businesstimes.com.sg/energy-commodities/oil-up-more-than-1-on-eighth-weekly-us-crude-drawdown\n",
      "23 Aug 2017 http://www.businesstimes.com.sg/energy-commodities/oil-prices-climb-as-traders-eye-another-us-crude-drawdown\n",
      "17 Aug 2017 http://www.businesstimes.com.sg/energy-commodities/oil-steady-as-high-us-output-balances-crude-stock-draw\n",
      "17 Aug 2017 http://www.businesstimes.com.sg/energy-commodities/saudi-arabia-crude-oil-exports-fall-slightly-in-june\n",
      "17 Aug 2017 http://www.businesstimes.com.sg/energy-commodities/oil-slides-despite-steep-draw-in-us-crude-stocks\n",
      "16 Aug 2017 http://www.businesstimes.com.sg/energy-commodities/oil-edges-up-on-bets-on-falling-us-crude-stocks\n",
      "11 Aug 2017 http://www.businesstimes.com.sg/energy-commodities/oil-slides-on-worries-about-global-crude-glut-wall-street-slump\n",
      "10 Aug 2017 http://www.businesstimes.com.sg/energy-commodities/top-oil-buyers-go-on-light-crude-diet-to-satisfy-diesel-craving\n",
      "09 Aug 2017 http://www.businesstimes.com.sg/energy-commodities/big-oils-dream-of-us65b-of-crude-fades-away-as-norway-opts-to-defend-natural\n"
     ]
    }
   ],
   "source": [
    "\n",
    "from urllib.request import urlopen, HTTPError\n",
    "from bs4 import BeautifulSoup\n",
    "from datetime import datetime, timedelta\n",
    "import time\n",
    "import pprint\n",
    "\n",
    "date_sentiments = {}\n",
    "\n",
    "for i in range(1,11):\n",
    "    page = urlopen('https://www.businesstimes.com.sg/search/crude%2Boil?page='+str(i)).read()\n",
    "#     page = urlopen('https://www.businesstimes.com.sg/search/facebook?page='+str(i)).read()\n",
    "    soup = BeautifulSoup(page, features=\"html.parser\")\n",
    "    posts = soup.findAll(\"div\", {\"class\": \"media-body\"})\n",
    "    for post in posts:\n",
    "        time.sleep(1)\n",
    "        url = post.a['href']\n",
    "        date = post.time.text\n",
    "        print(date, url)\n",
    "        try:\n",
    "            link_page = urlopen(url).read()\n",
    "        except HTTPError as e:\n",
    "            if e.code == 403:\n",
    "                continue\n",
    "            url = url[:-2]\n",
    "            link_page = urlopen(url).read()\n",
    "        link_soup = BeautifulSoup(link_page)\n",
    "        sentences = link_soup.findAll(\"p\")\n",
    "        passage = \"\"\n",
    "        for sentence in sentences:\n",
    "            passage += sentence.text\n",
    "        sentiment = model(tokenize_and_pad(passage))\n",
    "        date_sentiments.setdefault(date, []).append(sentiment)"
   ]
  },
  {
   "cell_type": "code",
   "execution_count": 105,
   "metadata": {},
   "outputs": [
    {
     "name": "stdout",
     "output_type": "stream",
     "text": [
      "{datetime.date(2019, 4, 14): 0.0, datetime.date(2019, 4, 12): 0.0, datetime.date(2019, 4, 11): 1.0, datetime.date(2019, 4, 9): 0.0, datetime.date(2019, 4, 6): 0.0, datetime.date(2019, 4, 5): 0.0, datetime.date(2019, 4, 2): 0.0, datetime.date(2019, 3, 29): 0.0, datetime.date(2019, 3, 21): 0.002, datetime.date(2019, 3, 12): 0.0, datetime.date(2019, 3, 8): 0.0, datetime.date(2019, 3, 1): 0.016, datetime.date(2019, 2, 23): 0.0, datetime.date(2019, 2, 12): 0.0, datetime.date(2019, 2, 2): 0.0, datetime.date(2019, 1, 23): 0.0, datetime.date(2019, 1, 15): 0.0, datetime.date(2019, 1, 2): 0.0, datetime.date(2018, 12, 4): 0.998, datetime.date(2018, 11, 11): 0.0, datetime.date(2018, 11, 10): 0.007, datetime.date(2018, 11, 9): 0.0, datetime.date(2018, 11, 7): 1.0, datetime.date(2018, 10, 19): 0.999, datetime.date(2018, 10, 17): 0.0, datetime.date(2018, 10, 11): 0.0, datetime.date(2018, 10, 9): 0.0, datetime.date(2018, 9, 4): 0.0, datetime.date(2018, 8, 24): 0.0, datetime.date(2018, 8, 17): 0.0, datetime.date(2018, 8, 9): 0.0, datetime.date(2018, 8, 5): 0.0, datetime.date(2018, 7, 27): 0.0, datetime.date(2018, 7, 13): 0.0, datetime.date(2018, 7, 7): 0.0, datetime.date(2018, 7, 6): 0.001, datetime.date(2018, 6, 30): 0.0, datetime.date(2018, 6, 29): 0.0, datetime.date(2018, 6, 28): 0.0, datetime.date(2018, 6, 27): 0.0, datetime.date(2018, 6, 15): 0.823, datetime.date(2018, 6, 8): 0.0, datetime.date(2018, 6, 6): 0.0, datetime.date(2018, 6, 3): 0.16, datetime.date(2018, 6, 2): 0.001, datetime.date(2018, 6, 1): 0.0, datetime.date(2018, 5, 17): 0.0, datetime.date(2018, 5, 16): 0.995, datetime.date(2018, 4, 19): 0.0, datetime.date(2018, 4, 7): 0.0, datetime.date(2018, 3, 31): 0.0, datetime.date(2018, 3, 30): 0.0, datetime.date(2018, 3, 28): 0.0, datetime.date(2018, 3, 21): 0.0, datetime.date(2018, 3, 17): 0.0, datetime.date(2018, 3, 16): 0.0, datetime.date(2018, 3, 9): 0.0, datetime.date(2018, 3, 4): 0.0, datetime.date(2018, 3, 3): 0.0, datetime.date(2018, 3, 2): 0.0, datetime.date(2018, 3, 1): 0.0, datetime.date(2018, 2, 24): 0.0, datetime.date(2018, 2, 9): 0.001, datetime.date(2018, 2, 8): 0.0, datetime.date(2018, 1, 27): 0.0, datetime.date(2018, 1, 25): 0.0, datetime.date(2018, 1, 20): 0.013, datetime.date(2018, 1, 12): 0.0, datetime.date(2017, 12, 22): 0.0, datetime.date(2017, 12, 15): 0.0, datetime.date(2017, 12, 14): 0.0, datetime.date(2017, 12, 13): 0.0, datetime.date(2017, 12, 7): 0.0, datetime.date(2017, 12, 6): 1.0, datetime.date(2017, 11, 30): 0.0, datetime.date(2017, 11, 17): 0.0, datetime.date(2017, 11, 10): 0.458, datetime.date(2017, 11, 3): 0.0, datetime.date(2017, 11, 2): 0.0, datetime.date(2017, 11, 1): 0.0, datetime.date(2017, 10, 6): 0.0, datetime.date(2017, 9, 27): 0.997, datetime.date(2017, 9, 22): 0.053, datetime.date(2017, 9, 15): 0.0, datetime.date(2017, 8, 25): 0.0, datetime.date(2017, 8, 24): 0.0, datetime.date(2017, 8, 18): 0.0, datetime.date(2017, 8, 17): 0.999, datetime.date(2017, 8, 12): 0.0, datetime.date(2017, 8, 11): 0.218, datetime.date(2017, 8, 10): 0.0}\n"
     ]
    }
   ],
   "source": [
    "date_sentiment = {}\n",
    "\n",
    "for k,v in date_sentiments.items():\n",
    "    date_sentiment[datetime.strptime(k, '%d %b %Y').date() + timedelta(days=1)] = round(sum([np.asscalar(o.numpy()) for o in v])/float(len(v)),3)\n",
    "\n",
    "earliest_date = min(date_sentiment.keys())\n",
    "\n",
    "print(date_sentiment)"
   ]
  },
  {
   "cell_type": "code",
   "execution_count": 121,
   "metadata": {},
   "outputs": [
    {
     "data": {
      "text/plain": [
       "[0.0, 0.0, 1.0, 0.0, 0.0]"
      ]
     },
     "execution_count": 121,
     "metadata": {},
     "output_type": "execute_result"
    }
   ],
   "source": [
    "list(date_sentiment.values())[:5]"
   ]
  },
  {
   "cell_type": "markdown",
   "metadata": {},
   "source": [
    "# Back trader"
   ]
  },
  {
   "cell_type": "code",
   "execution_count": 106,
   "metadata": {},
   "outputs": [],
   "source": [
    "import backtrader as bt\n",
    "import backtrader.indicators as btind\n",
    "import datetime\n",
    "import os.path\n",
    "import sys\n",
    "\n",
    "class Sentiment(bt.Indicator):\n",
    "    lines = ('sentiment',)\n",
    "    plotinfo = dict(\n",
    "        plotymargin=0.15,\n",
    "        plothlines=[0],\n",
    "        plotyticks=[1.0, 0, -1.0])\n",
    "    \n",
    "    def next(self):\n",
    "        self.date = self.data.datetime\n",
    "        date = bt.num2date(self.date[0]).date()\n",
    "        prev_sentiment = self.sentiment\n",
    "        if date in date_sentiment:\n",
    "            self.sentiment = date_sentiment[date]\n",
    "        self.lines.sentiment[0] = self.sentiment\n",
    "\n",
    "\n",
    "class SentimentStrat(bt.Strategy):\n",
    "    params = (\n",
    "        ('period', 15),\n",
    "        ('printlog', True),\n",
    "    )\n",
    "\n",
    "    def log(self, txt, dt=None, doprint=False):\n",
    "        ''' Logging function for this strategy'''\n",
    "        if self.params.printlog or doprint:\n",
    "            dt = dt or self.datas[0].datetime.date(0)\n",
    "            print('%s, %s' % (dt.isoformat(), txt))\n",
    "\n",
    "    def __init__(self):\n",
    "        # Keep a reference to the \"close\" line in the data[0] dataseries\n",
    "        self.dataclose = self.datas[0].close\n",
    "        # Keep track of pending orders\n",
    "        self.order = None\n",
    "        self.buyprice = None\n",
    "        self.buycomm = None\n",
    "        self.sma = bt.indicators.SimpleMovingAverage(\n",
    "            self.datas[0], period=self.params.period)\n",
    "        self.date = self.data.datetime\n",
    "        self.sentiment = None\n",
    "        Sentiment(self.data)\n",
    "        \n",
    "    def notify_order(self, order):\n",
    "        if order.status in [order.Submitted, order.Accepted]:\n",
    "            # Buy/Sell order submitted/accepted to/by broker - Nothing to do\n",
    "            return\n",
    "        \n",
    "        # Check if an order has been completed\n",
    "        # Attention: broker could reject order if not enough cash\n",
    "        if order.status in [order.Completed]:\n",
    "            if order.isbuy():\n",
    "                self.log(\n",
    "                    'BUY EXECUTED, Price: %.2f, Cost: %.2f, Comm %.2f' %\n",
    "                    (order.executed.price,\n",
    "                     order.executed.value,\n",
    "                     order.executed.comm))\n",
    "                self.buyprice = order.executed.price\n",
    "                self.buycomm = order.executed.comm\n",
    "            else:  # Sell\n",
    "                self.log('SELL EXECUTED, Price: %.2f, Cost: %.2f, Comm %.2f' %\n",
    "                         (order.executed.price,\n",
    "                          order.executed.value,\n",
    "                          order.executed.comm))\n",
    "                \n",
    "            self.bar_executed = len(self)     \n",
    "            \n",
    "        elif order.status in [order.Canceled, order.Margin, order.Rejected]:\n",
    "            self.log('Order Canceled/Margin/Rejected')\n",
    "            \n",
    "        # Write down: no pending order\n",
    "        self.order = None\n",
    "        \n",
    "    def notify_trade(self, trade):\n",
    "        if not trade.isclosed:\n",
    "            return\n",
    "\n",
    "        self.log('OPERATION PROFIT, GROSS %.2f, NET %.2f' %\n",
    "                 (trade.pnl, trade.pnlcomm))\n",
    "    \n",
    "    ### Main Strat ###\n",
    "    def next(self):\n",
    "        # log closing price of the series from the reference\n",
    "        self.log('Close, %.2f' % self.dataclose[0])\n",
    "        \n",
    "        date = bt.num2date(self.date[0]).date()\n",
    "        prev_sentiment = self.sentiment\n",
    "        if date in date_sentiment:\n",
    "            self.sentiment = date_sentiment[date]\n",
    "        \n",
    "        # Check if an order is pending. if yes, we cannot send a 2nd one\n",
    "        if self.order:\n",
    "            return\n",
    "        print(self.sentiment)\n",
    "        # If not in the market and previous sentiment not none\n",
    "        if not self.position and prev_sentiment:\n",
    "            # buy if current close more than sma AND sentiment increased by >= 0.5\n",
    "            if self.dataclose[0] > self.sma[0] and self.sentiment - prev_sentiment >= 0.5:\n",
    "                self.log('BUY CREATE, %.2f' % self.dataclose[0])\n",
    "                self.order = self.buy()\n",
    "                \n",
    "        # Already in the market and previous sentiment not none\n",
    "        elif prev_sentiment:\n",
    "            # sell if current close less than sma AND sentiment decreased by >= 0.5\n",
    "            if self.dataclose[0] < self.sma[0] and self.sentiment - prev_sentiment <= -0.5:\n",
    "                self.log('SELL CREATE, %.2f' % self.dataclose[0])\n",
    "                self.order = self.sell()\n",
    "\n",
    "    def stop(self):\n",
    "        self.log('(MA Period %2d) Ending Value %.2f' %\n",
    "                 (self.params.period, self.broker.getvalue()), doprint=True)"
   ]
  },
  {
   "cell_type": "code",
   "execution_count": 112,
   "metadata": {},
   "outputs": [
    {
     "data": {
      "text/plain": [
       "datetime.date(2017, 8, 10)"
      ]
     },
     "execution_count": 112,
     "metadata": {},
     "output_type": "execute_result"
    }
   ],
   "source": [
    "earliest_date"
   ]
  },
  {
   "cell_type": "code",
   "execution_count": 114,
   "metadata": {},
   "outputs": [
    {
     "name": "stdout",
     "output_type": "stream",
     "text": [
      "Starting Portfolio Value: 100000.00\n"
     ]
    },
    {
     "ename": "TypeError",
     "evalue": "must be real number, not LineBuffer",
     "output_type": "error",
     "traceback": [
      "\u001b[0;31m---------------------------------------------------------------------------\u001b[0m",
      "\u001b[0;31mTypeError\u001b[0m                                 Traceback (most recent call last)",
      "\u001b[0;32m<ipython-input-114-cc457948a87b>\u001b[0m in \u001b[0;36m<module>\u001b[0;34m\u001b[0m\n\u001b[1;32m     18\u001b[0m \u001b[0mcerebro\u001b[0m\u001b[0;34m.\u001b[0m\u001b[0mbroker\u001b[0m\u001b[0;34m.\u001b[0m\u001b[0msetcommission\u001b[0m\u001b[0;34m(\u001b[0m\u001b[0mcommission\u001b[0m\u001b[0;34m=\u001b[0m\u001b[0;36m0.001\u001b[0m\u001b[0;34m)\u001b[0m\u001b[0;34m\u001b[0m\u001b[0;34m\u001b[0m\u001b[0m\n\u001b[1;32m     19\u001b[0m \u001b[0mprint\u001b[0m\u001b[0;34m(\u001b[0m\u001b[0;34m'Starting Portfolio Value: %.2f'\u001b[0m \u001b[0;34m%\u001b[0m \u001b[0mcerebro\u001b[0m\u001b[0;34m.\u001b[0m\u001b[0mbroker\u001b[0m\u001b[0;34m.\u001b[0m\u001b[0mgetvalue\u001b[0m\u001b[0;34m(\u001b[0m\u001b[0;34m)\u001b[0m\u001b[0;34m)\u001b[0m\u001b[0;34m\u001b[0m\u001b[0;34m\u001b[0m\u001b[0m\n\u001b[0;32m---> 20\u001b[0;31m \u001b[0mcerebro\u001b[0m\u001b[0;34m.\u001b[0m\u001b[0mrun\u001b[0m\u001b[0;34m(\u001b[0m\u001b[0;34m)\u001b[0m\u001b[0;34m\u001b[0m\u001b[0;34m\u001b[0m\u001b[0m\n\u001b[0m\u001b[1;32m     21\u001b[0m \u001b[0mprint\u001b[0m\u001b[0;34m(\u001b[0m\u001b[0;34m'Final Portfolio Value: %.2f'\u001b[0m \u001b[0;34m%\u001b[0m \u001b[0mcerebro\u001b[0m\u001b[0;34m.\u001b[0m\u001b[0mbroker\u001b[0m\u001b[0;34m.\u001b[0m\u001b[0mgetvalue\u001b[0m\u001b[0;34m(\u001b[0m\u001b[0;34m)\u001b[0m\u001b[0;34m)\u001b[0m\u001b[0;34m\u001b[0m\u001b[0;34m\u001b[0m\u001b[0m\n\u001b[1;32m     22\u001b[0m \u001b[0;34m\u001b[0m\u001b[0m\n",
      "\u001b[0;32m~/anaconda3/envs/tf2alpha/lib/python3.6/site-packages/backtrader/cerebro.py\u001b[0m in \u001b[0;36mrun\u001b[0;34m(self, **kwargs)\u001b[0m\n\u001b[1;32m   1125\u001b[0m             \u001b[0;31m# let's skip process \"spawning\"\u001b[0m\u001b[0;34m\u001b[0m\u001b[0;34m\u001b[0m\u001b[0;34m\u001b[0m\u001b[0m\n\u001b[1;32m   1126\u001b[0m             \u001b[0;32mfor\u001b[0m \u001b[0miterstrat\u001b[0m \u001b[0;32min\u001b[0m \u001b[0miterstrats\u001b[0m\u001b[0;34m:\u001b[0m\u001b[0;34m\u001b[0m\u001b[0;34m\u001b[0m\u001b[0m\n\u001b[0;32m-> 1127\u001b[0;31m                 \u001b[0mrunstrat\u001b[0m \u001b[0;34m=\u001b[0m \u001b[0mself\u001b[0m\u001b[0;34m.\u001b[0m\u001b[0mrunstrategies\u001b[0m\u001b[0;34m(\u001b[0m\u001b[0miterstrat\u001b[0m\u001b[0;34m)\u001b[0m\u001b[0;34m\u001b[0m\u001b[0;34m\u001b[0m\u001b[0m\n\u001b[0m\u001b[1;32m   1128\u001b[0m                 \u001b[0mself\u001b[0m\u001b[0;34m.\u001b[0m\u001b[0mrunstrats\u001b[0m\u001b[0;34m.\u001b[0m\u001b[0mappend\u001b[0m\u001b[0;34m(\u001b[0m\u001b[0mrunstrat\u001b[0m\u001b[0;34m)\u001b[0m\u001b[0;34m\u001b[0m\u001b[0;34m\u001b[0m\u001b[0m\n\u001b[1;32m   1129\u001b[0m                 \u001b[0;32mif\u001b[0m \u001b[0mself\u001b[0m\u001b[0;34m.\u001b[0m\u001b[0m_dooptimize\u001b[0m\u001b[0;34m:\u001b[0m\u001b[0;34m\u001b[0m\u001b[0;34m\u001b[0m\u001b[0m\n",
      "\u001b[0;32m~/anaconda3/envs/tf2alpha/lib/python3.6/site-packages/backtrader/cerebro.py\u001b[0m in \u001b[0;36mrunstrategies\u001b[0;34m(self, iterstrat, predata)\u001b[0m\n\u001b[1;32m   1291\u001b[0m                     \u001b[0mself\u001b[0m\u001b[0;34m.\u001b[0m\u001b[0m_runonce_old\u001b[0m\u001b[0;34m(\u001b[0m\u001b[0mrunstrats\u001b[0m\u001b[0;34m)\u001b[0m\u001b[0;34m\u001b[0m\u001b[0;34m\u001b[0m\u001b[0m\n\u001b[1;32m   1292\u001b[0m                 \u001b[0;32melse\u001b[0m\u001b[0;34m:\u001b[0m\u001b[0;34m\u001b[0m\u001b[0;34m\u001b[0m\u001b[0m\n\u001b[0;32m-> 1293\u001b[0;31m                     \u001b[0mself\u001b[0m\u001b[0;34m.\u001b[0m\u001b[0m_runonce\u001b[0m\u001b[0;34m(\u001b[0m\u001b[0mrunstrats\u001b[0m\u001b[0;34m)\u001b[0m\u001b[0;34m\u001b[0m\u001b[0;34m\u001b[0m\u001b[0m\n\u001b[0m\u001b[1;32m   1294\u001b[0m             \u001b[0;32melse\u001b[0m\u001b[0;34m:\u001b[0m\u001b[0;34m\u001b[0m\u001b[0;34m\u001b[0m\u001b[0m\n\u001b[1;32m   1295\u001b[0m                 \u001b[0;32mif\u001b[0m \u001b[0mself\u001b[0m\u001b[0;34m.\u001b[0m\u001b[0mp\u001b[0m\u001b[0;34m.\u001b[0m\u001b[0moldsync\u001b[0m\u001b[0;34m:\u001b[0m\u001b[0;34m\u001b[0m\u001b[0;34m\u001b[0m\u001b[0m\n",
      "\u001b[0;32m~/anaconda3/envs/tf2alpha/lib/python3.6/site-packages/backtrader/cerebro.py\u001b[0m in \u001b[0;36m_runonce\u001b[0;34m(self, runstrats)\u001b[0m\n\u001b[1;32m   1650\u001b[0m         '''\n\u001b[1;32m   1651\u001b[0m         \u001b[0;32mfor\u001b[0m \u001b[0mstrat\u001b[0m \u001b[0;32min\u001b[0m \u001b[0mrunstrats\u001b[0m\u001b[0;34m:\u001b[0m\u001b[0;34m\u001b[0m\u001b[0;34m\u001b[0m\u001b[0m\n\u001b[0;32m-> 1652\u001b[0;31m             \u001b[0mstrat\u001b[0m\u001b[0;34m.\u001b[0m\u001b[0m_once\u001b[0m\u001b[0;34m(\u001b[0m\u001b[0;34m)\u001b[0m\u001b[0;34m\u001b[0m\u001b[0;34m\u001b[0m\u001b[0m\n\u001b[0m\u001b[1;32m   1653\u001b[0m             \u001b[0mstrat\u001b[0m\u001b[0;34m.\u001b[0m\u001b[0mreset\u001b[0m\u001b[0;34m(\u001b[0m\u001b[0;34m)\u001b[0m  \u001b[0;31m# strat called next by next - reset lines\u001b[0m\u001b[0;34m\u001b[0m\u001b[0;34m\u001b[0m\u001b[0m\n\u001b[1;32m   1654\u001b[0m \u001b[0;34m\u001b[0m\u001b[0m\n",
      "\u001b[0;32m~/anaconda3/envs/tf2alpha/lib/python3.6/site-packages/backtrader/lineiterator.py\u001b[0m in \u001b[0;36m_once\u001b[0;34m(self)\u001b[0m\n\u001b[1;32m    290\u001b[0m \u001b[0;34m\u001b[0m\u001b[0m\n\u001b[1;32m    291\u001b[0m         \u001b[0;32mfor\u001b[0m \u001b[0mindicator\u001b[0m \u001b[0;32min\u001b[0m \u001b[0mself\u001b[0m\u001b[0;34m.\u001b[0m\u001b[0m_lineiterators\u001b[0m\u001b[0;34m[\u001b[0m\u001b[0mLineIterator\u001b[0m\u001b[0;34m.\u001b[0m\u001b[0mIndType\u001b[0m\u001b[0;34m]\u001b[0m\u001b[0;34m:\u001b[0m\u001b[0;34m\u001b[0m\u001b[0;34m\u001b[0m\u001b[0m\n\u001b[0;32m--> 292\u001b[0;31m             \u001b[0mindicator\u001b[0m\u001b[0;34m.\u001b[0m\u001b[0m_once\u001b[0m\u001b[0;34m(\u001b[0m\u001b[0;34m)\u001b[0m\u001b[0;34m\u001b[0m\u001b[0;34m\u001b[0m\u001b[0m\n\u001b[0m\u001b[1;32m    293\u001b[0m \u001b[0;34m\u001b[0m\u001b[0m\n\u001b[1;32m    294\u001b[0m         \u001b[0;32mfor\u001b[0m \u001b[0mobserver\u001b[0m \u001b[0;32min\u001b[0m \u001b[0mself\u001b[0m\u001b[0;34m.\u001b[0m\u001b[0m_lineiterators\u001b[0m\u001b[0;34m[\u001b[0m\u001b[0mLineIterator\u001b[0m\u001b[0;34m.\u001b[0m\u001b[0mObsType\u001b[0m\u001b[0;34m]\u001b[0m\u001b[0;34m:\u001b[0m\u001b[0;34m\u001b[0m\u001b[0;34m\u001b[0m\u001b[0m\n",
      "\u001b[0;32m~/anaconda3/envs/tf2alpha/lib/python3.6/site-packages/backtrader/lineiterator.py\u001b[0m in \u001b[0;36m_once\u001b[0;34m(self)\u001b[0m\n\u001b[1;32m    310\u001b[0m         \u001b[0;31m# indicators are each called with its min period\u001b[0m\u001b[0;34m\u001b[0m\u001b[0;34m\u001b[0m\u001b[0;34m\u001b[0m\u001b[0m\n\u001b[1;32m    311\u001b[0m         \u001b[0mself\u001b[0m\u001b[0;34m.\u001b[0m\u001b[0mpreonce\u001b[0m\u001b[0;34m(\u001b[0m\u001b[0;36m0\u001b[0m\u001b[0;34m,\u001b[0m \u001b[0mself\u001b[0m\u001b[0;34m.\u001b[0m\u001b[0m_minperiod\u001b[0m \u001b[0;34m-\u001b[0m \u001b[0;36m1\u001b[0m\u001b[0;34m)\u001b[0m\u001b[0;34m\u001b[0m\u001b[0;34m\u001b[0m\u001b[0m\n\u001b[0;32m--> 312\u001b[0;31m         \u001b[0mself\u001b[0m\u001b[0;34m.\u001b[0m\u001b[0moncestart\u001b[0m\u001b[0;34m(\u001b[0m\u001b[0mself\u001b[0m\u001b[0;34m.\u001b[0m\u001b[0m_minperiod\u001b[0m \u001b[0;34m-\u001b[0m \u001b[0;36m1\u001b[0m\u001b[0;34m,\u001b[0m \u001b[0mself\u001b[0m\u001b[0;34m.\u001b[0m\u001b[0m_minperiod\u001b[0m\u001b[0;34m)\u001b[0m\u001b[0;34m\u001b[0m\u001b[0;34m\u001b[0m\u001b[0m\n\u001b[0m\u001b[1;32m    313\u001b[0m         \u001b[0mself\u001b[0m\u001b[0;34m.\u001b[0m\u001b[0monce\u001b[0m\u001b[0;34m(\u001b[0m\u001b[0mself\u001b[0m\u001b[0;34m.\u001b[0m\u001b[0m_minperiod\u001b[0m\u001b[0;34m,\u001b[0m \u001b[0mself\u001b[0m\u001b[0;34m.\u001b[0m\u001b[0mbuflen\u001b[0m\u001b[0;34m(\u001b[0m\u001b[0;34m)\u001b[0m\u001b[0;34m)\u001b[0m\u001b[0;34m\u001b[0m\u001b[0;34m\u001b[0m\u001b[0m\n\u001b[1;32m    314\u001b[0m \u001b[0;34m\u001b[0m\u001b[0m\n",
      "\u001b[0;32m~/anaconda3/envs/tf2alpha/lib/python3.6/site-packages/backtrader/indicator.py\u001b[0m in \u001b[0;36moncestart_via_nextstart\u001b[0;34m(self, start, end)\u001b[0m\n\u001b[1;32m    122\u001b[0m \u001b[0;34m\u001b[0m\u001b[0m\n\u001b[1;32m    123\u001b[0m             \u001b[0mself\u001b[0m\u001b[0;34m.\u001b[0m\u001b[0madvance\u001b[0m\u001b[0;34m(\u001b[0m\u001b[0;34m)\u001b[0m\u001b[0;34m\u001b[0m\u001b[0;34m\u001b[0m\u001b[0m\n\u001b[0;32m--> 124\u001b[0;31m             \u001b[0mself\u001b[0m\u001b[0;34m.\u001b[0m\u001b[0mnextstart\u001b[0m\u001b[0;34m(\u001b[0m\u001b[0;34m)\u001b[0m\u001b[0;34m\u001b[0m\u001b[0;34m\u001b[0m\u001b[0m\n\u001b[0m\u001b[1;32m    125\u001b[0m \u001b[0;34m\u001b[0m\u001b[0m\n\u001b[1;32m    126\u001b[0m     \u001b[0;32mdef\u001b[0m \u001b[0monce_via_next\u001b[0m\u001b[0;34m(\u001b[0m\u001b[0mself\u001b[0m\u001b[0;34m,\u001b[0m \u001b[0mstart\u001b[0m\u001b[0;34m,\u001b[0m \u001b[0mend\u001b[0m\u001b[0;34m)\u001b[0m\u001b[0;34m:\u001b[0m\u001b[0;34m\u001b[0m\u001b[0;34m\u001b[0m\u001b[0m\n",
      "\u001b[0;32m~/anaconda3/envs/tf2alpha/lib/python3.6/site-packages/backtrader/lineiterator.py\u001b[0m in \u001b[0;36mnextstart\u001b[0;34m(self)\u001b[0m\n\u001b[1;32m    340\u001b[0m \u001b[0;34m\u001b[0m\u001b[0m\n\u001b[1;32m    341\u001b[0m         \u001b[0;31m# Called once for 1st full calculation - defaults to regular next\u001b[0m\u001b[0;34m\u001b[0m\u001b[0;34m\u001b[0m\u001b[0;34m\u001b[0m\u001b[0m\n\u001b[0;32m--> 342\u001b[0;31m         \u001b[0mself\u001b[0m\u001b[0;34m.\u001b[0m\u001b[0mnext\u001b[0m\u001b[0;34m(\u001b[0m\u001b[0;34m)\u001b[0m\u001b[0;34m\u001b[0m\u001b[0;34m\u001b[0m\u001b[0m\n\u001b[0m\u001b[1;32m    343\u001b[0m \u001b[0;34m\u001b[0m\u001b[0m\n\u001b[1;32m    344\u001b[0m     \u001b[0;32mdef\u001b[0m \u001b[0mnext\u001b[0m\u001b[0;34m(\u001b[0m\u001b[0mself\u001b[0m\u001b[0;34m)\u001b[0m\u001b[0;34m:\u001b[0m\u001b[0;34m\u001b[0m\u001b[0;34m\u001b[0m\u001b[0m\n",
      "\u001b[0;32m<ipython-input-106-c518f2c180de>\u001b[0m in \u001b[0;36mnext\u001b[0;34m(self)\u001b[0m\n\u001b[1;32m     18\u001b[0m         \u001b[0;32mif\u001b[0m \u001b[0mdate\u001b[0m \u001b[0;32min\u001b[0m \u001b[0mdate_sentiment\u001b[0m\u001b[0;34m:\u001b[0m\u001b[0;34m\u001b[0m\u001b[0;34m\u001b[0m\u001b[0m\n\u001b[1;32m     19\u001b[0m             \u001b[0mself\u001b[0m\u001b[0;34m.\u001b[0m\u001b[0msentiment\u001b[0m \u001b[0;34m=\u001b[0m \u001b[0mdate_sentiment\u001b[0m\u001b[0;34m[\u001b[0m\u001b[0mdate\u001b[0m\u001b[0;34m]\u001b[0m\u001b[0;34m\u001b[0m\u001b[0;34m\u001b[0m\u001b[0m\n\u001b[0;32m---> 20\u001b[0;31m         \u001b[0mself\u001b[0m\u001b[0;34m.\u001b[0m\u001b[0mlines\u001b[0m\u001b[0;34m.\u001b[0m\u001b[0msentiment\u001b[0m\u001b[0;34m[\u001b[0m\u001b[0;36m0\u001b[0m\u001b[0;34m]\u001b[0m \u001b[0;34m=\u001b[0m \u001b[0mself\u001b[0m\u001b[0;34m.\u001b[0m\u001b[0msentiment\u001b[0m\u001b[0;34m\u001b[0m\u001b[0;34m\u001b[0m\u001b[0m\n\u001b[0m\u001b[1;32m     21\u001b[0m \u001b[0;34m\u001b[0m\u001b[0m\n\u001b[1;32m     22\u001b[0m \u001b[0;34m\u001b[0m\u001b[0m\n",
      "\u001b[0;32m~/anaconda3/envs/tf2alpha/lib/python3.6/site-packages/backtrader/linebuffer.py\u001b[0m in \u001b[0;36m__setitem__\u001b[0;34m(self, ago, value)\u001b[0m\n\u001b[1;32m    220\u001b[0m             \u001b[0mvalue\u001b[0m \u001b[0;34m(\u001b[0m\u001b[0mvariable\u001b[0m\u001b[0;34m)\u001b[0m\u001b[0;34m:\u001b[0m \u001b[0mvalue\u001b[0m \u001b[0mto\u001b[0m \u001b[0mbe\u001b[0m \u001b[0mset\u001b[0m\u001b[0;34m\u001b[0m\u001b[0;34m\u001b[0m\u001b[0m\n\u001b[1;32m    221\u001b[0m         '''\n\u001b[0;32m--> 222\u001b[0;31m         \u001b[0mself\u001b[0m\u001b[0;34m.\u001b[0m\u001b[0marray\u001b[0m\u001b[0;34m[\u001b[0m\u001b[0mself\u001b[0m\u001b[0;34m.\u001b[0m\u001b[0midx\u001b[0m \u001b[0;34m+\u001b[0m \u001b[0mago\u001b[0m\u001b[0;34m]\u001b[0m \u001b[0;34m=\u001b[0m \u001b[0mvalue\u001b[0m\u001b[0;34m\u001b[0m\u001b[0;34m\u001b[0m\u001b[0m\n\u001b[0m\u001b[1;32m    223\u001b[0m         \u001b[0;32mfor\u001b[0m \u001b[0mbinding\u001b[0m \u001b[0;32min\u001b[0m \u001b[0mself\u001b[0m\u001b[0;34m.\u001b[0m\u001b[0mbindings\u001b[0m\u001b[0;34m:\u001b[0m\u001b[0;34m\u001b[0m\u001b[0;34m\u001b[0m\u001b[0m\n\u001b[1;32m    224\u001b[0m             \u001b[0mbinding\u001b[0m\u001b[0;34m[\u001b[0m\u001b[0mago\u001b[0m\u001b[0;34m]\u001b[0m \u001b[0;34m=\u001b[0m \u001b[0mvalue\u001b[0m\u001b[0;34m\u001b[0m\u001b[0;34m\u001b[0m\u001b[0m\n",
      "\u001b[0;31mTypeError\u001b[0m: must be real number, not LineBuffer"
     ]
    }
   ],
   "source": [
    "cerebro = bt.Cerebro()\n",
    "\n",
    "# Strategy\n",
    "cerebro.addstrategy(SentimentStrat)\n",
    "\n",
    "# Data Feed\n",
    "\n",
    "data = bt.feeds.YahooFinanceData(\n",
    "        dataname = 'CLK19.NYM',\n",
    "        fromdate = earliest_date,\n",
    "        todate = datetime.datetime(2019,4,14),\n",
    "        reverse = False\n",
    "    )\n",
    "cerebro.adddata(data)\n",
    "\n",
    "cerebro.broker.setcash(100000.0)\n",
    "cerebro.addsizer(bt.sizers.FixedSize, stake=10)\n",
    "cerebro.broker.setcommission(commission=0.001)\n",
    "print('Starting Portfolio Value: %.2f' % cerebro.broker.getvalue())\n",
    "cerebro.run()\n",
    "print('Final Portfolio Value: %.2f' % cerebro.broker.getvalue())\n",
    "\n",
    "cerebro.plot()"
   ]
  },
  {
   "cell_type": "markdown",
   "metadata": {},
   "source": [
    "## with Quandl feed"
   ]
  },
  {
   "cell_type": "code",
   "execution_count": null,
   "metadata": {},
   "outputs": [],
   "source": [
    "# data = bt.feeds.Quandl(\n",
    "#     dataname = 'FB',\n",
    "#     apikey='LdFUhrZS8ve4PWCpujPf',\n",
    "#     fromdate = earliest_date,\n",
    "#     todate = datetime.datetime(2019,4,14),\n",
    "#     reverse = False)"
   ]
  },
  {
   "cell_type": "code",
   "execution_count": null,
   "metadata": {},
   "outputs": [],
   "source": [
    "# import quandl\n",
    "# quandl.ApiConfig.api_key = \"LdFUhrZS8ve4PWCpujPf\"\n",
    "\n",
    "# diff_df = quandl.get('WIKI/FB')\n",
    "# # df.rename(columns={'settle': 'close','prev_day_open_interest':'openinterest'}, inplace=True)\n",
    "# # data = bt.feeds.PandasData(dataname=diff_df,datetime=\"date\")\n",
    "\n",
    "# diff_df.tail()"
   ]
  }
 ],
 "metadata": {
  "kernelspec": {
   "display_name": "Python 3",
   "language": "python",
   "name": "python3"
  },
  "language_info": {
   "codemirror_mode": {
    "name": "ipython",
    "version": 3
   },
   "file_extension": ".py",
   "mimetype": "text/x-python",
   "name": "python",
   "nbconvert_exporter": "python",
   "pygments_lexer": "ipython3",
   "version": "3.6.8"
  },
  "latex_envs": {
   "LaTeX_envs_menu_present": true,
   "autoclose": false,
   "autocomplete": true,
   "bibliofile": "biblio.bib",
   "cite_by": "apalike",
   "current_citInitial": 1,
   "eqLabelWithNumbers": true,
   "eqNumInitial": 1,
   "hotkeys": {
    "equation": "Ctrl-E",
    "itemize": "Ctrl-I"
   },
   "labels_anchors": false,
   "latex_user_defs": false,
   "report_style_numbering": false,
   "user_envs_cfg": false
  }
 },
 "nbformat": 4,
 "nbformat_minor": 2
}
