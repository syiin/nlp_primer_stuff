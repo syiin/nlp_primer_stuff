{
 "cells": [
  {
   "cell_type": "code",
   "execution_count": 20,
   "metadata": {},
   "outputs": [],
   "source": [
    "import datetime\n",
    "\n",
    "now = datetime.datetime.now()\n",
    "now = str(now)\n",
    "SYMBOL = 'APPL'\n",
    "search_term = 'apple'"
   ]
  },
  {
   "cell_type": "code",
   "execution_count": 21,
   "metadata": {},
   "outputs": [
    {
     "ename": "KeyError",
     "evalue": "'Time Series (60min)'",
     "output_type": "error",
     "traceback": [
      "\u001b[0;31m---------------------------------------------------------------------------\u001b[0m",
      "\u001b[0;31mKeyError\u001b[0m                                  Traceback (most recent call last)",
      "\u001b[0;32m<ipython-input-21-213e26459d0f>\u001b[0m in \u001b[0;36m<module>\u001b[0;34m\u001b[0m\n\u001b[1;32m      5\u001b[0m \u001b[0;34m\u001b[0m\u001b[0m\n\u001b[1;32m      6\u001b[0m \u001b[0mts\u001b[0m \u001b[0;34m=\u001b[0m \u001b[0mTimeSeries\u001b[0m\u001b[0;34m(\u001b[0m\u001b[0mkey\u001b[0m\u001b[0;34m=\u001b[0m\u001b[0malpha_vantage_APIKEY\u001b[0m\u001b[0;34m,\u001b[0m \u001b[0moutput_format\u001b[0m\u001b[0;34m=\u001b[0m\u001b[0;34m'pandas'\u001b[0m\u001b[0;34m)\u001b[0m\u001b[0;34m\u001b[0m\u001b[0;34m\u001b[0m\u001b[0m\n\u001b[0;32m----> 7\u001b[0;31m \u001b[0mdata\u001b[0m\u001b[0;34m,\u001b[0m \u001b[0mmeta_data\u001b[0m \u001b[0;34m=\u001b[0m \u001b[0mts\u001b[0m\u001b[0;34m.\u001b[0m\u001b[0mget_intraday\u001b[0m\u001b[0;34m(\u001b[0m\u001b[0msymbol\u001b[0m\u001b[0;34m=\u001b[0m\u001b[0mSYMBOL\u001b[0m\u001b[0;34m,\u001b[0m\u001b[0minterval\u001b[0m\u001b[0;34m=\u001b[0m\u001b[0;34m'60min'\u001b[0m\u001b[0;34m,\u001b[0m \u001b[0moutputsize\u001b[0m\u001b[0;34m=\u001b[0m\u001b[0;34m'full'\u001b[0m\u001b[0;34m)\u001b[0m\u001b[0;34m\u001b[0m\u001b[0;34m\u001b[0m\u001b[0m\n\u001b[0m\u001b[1;32m      8\u001b[0m \u001b[0mdata\u001b[0m\u001b[0;34m[\u001b[0m\u001b[0;34m'4. close'\u001b[0m\u001b[0;34m]\u001b[0m\u001b[0;34m.\u001b[0m\u001b[0mplot\u001b[0m\u001b[0;34m(\u001b[0m\u001b[0;34m)\u001b[0m\u001b[0;34m\u001b[0m\u001b[0;34m\u001b[0m\u001b[0m\n\u001b[1;32m      9\u001b[0m \u001b[0mplt\u001b[0m\u001b[0;34m.\u001b[0m\u001b[0mtitle\u001b[0m\u001b[0;34m(\u001b[0m\u001b[0;34m'Intraday Times Series for the MSFT stock (1 min)'\u001b[0m\u001b[0;34m)\u001b[0m\u001b[0;34m\u001b[0m\u001b[0;34m\u001b[0m\u001b[0m\n",
      "\u001b[0;32m~/anaconda3/envs/tf_gpu/lib/python3.6/site-packages/alpha_vantage/alphavantage.py\u001b[0m in \u001b[0;36m_format_wrapper\u001b[0;34m(self, *args, **kwargs)\u001b[0m\n\u001b[1;32m    176\u001b[0m             \u001b[0;32mif\u001b[0m \u001b[0;34m'json'\u001b[0m \u001b[0;32min\u001b[0m \u001b[0mself\u001b[0m\u001b[0;34m.\u001b[0m\u001b[0moutput_format\u001b[0m\u001b[0;34m.\u001b[0m\u001b[0mlower\u001b[0m\u001b[0;34m(\u001b[0m\u001b[0;34m)\u001b[0m \u001b[0;32mor\u001b[0m \u001b[0;34m'pandas'\u001b[0m\u001b[0;31m \u001b[0m\u001b[0;31m\\\u001b[0m\u001b[0;34m\u001b[0m\u001b[0;34m\u001b[0m\u001b[0m\n\u001b[1;32m    177\u001b[0m                     \u001b[0;32min\u001b[0m \u001b[0mself\u001b[0m\u001b[0;34m.\u001b[0m\u001b[0moutput_format\u001b[0m\u001b[0;34m.\u001b[0m\u001b[0mlower\u001b[0m\u001b[0;34m(\u001b[0m\u001b[0;34m)\u001b[0m\u001b[0;34m:\u001b[0m\u001b[0;34m\u001b[0m\u001b[0;34m\u001b[0m\u001b[0m\n\u001b[0;32m--> 178\u001b[0;31m                 \u001b[0mdata\u001b[0m \u001b[0;34m=\u001b[0m \u001b[0mcall_response\u001b[0m\u001b[0;34m[\u001b[0m\u001b[0mdata_key\u001b[0m\u001b[0;34m]\u001b[0m\u001b[0;34m\u001b[0m\u001b[0;34m\u001b[0m\u001b[0m\n\u001b[0m\u001b[1;32m    179\u001b[0m                 \u001b[0;32mif\u001b[0m \u001b[0mmeta_data_key\u001b[0m \u001b[0;32mis\u001b[0m \u001b[0;32mnot\u001b[0m \u001b[0;32mNone\u001b[0m\u001b[0;34m:\u001b[0m\u001b[0;34m\u001b[0m\u001b[0;34m\u001b[0m\u001b[0m\n\u001b[1;32m    180\u001b[0m                     \u001b[0mmeta_data\u001b[0m \u001b[0;34m=\u001b[0m \u001b[0mcall_response\u001b[0m\u001b[0;34m[\u001b[0m\u001b[0mmeta_data_key\u001b[0m\u001b[0;34m]\u001b[0m\u001b[0;34m\u001b[0m\u001b[0;34m\u001b[0m\u001b[0m\n",
      "\u001b[0;31mKeyError\u001b[0m: 'Time Series (60min)'"
     ]
    }
   ],
   "source": [
    "from alpha_vantage.timeseries import TimeSeries\n",
    "import matplotlib.pyplot as plt\n",
    "\n",
    "alpha_vantage_APIKEY = '4FSNXUSUS1Y22Q4A'\n",
    "\n",
    "ts = TimeSeries(key=alpha_vantage_APIKEY, output_format='pandas')\n",
    "data, meta_data = ts.get_intraday(symbol=SYMBOL,interval='60min', outputsize='full')\n",
    "data['4. close'].plot()\n",
    "plt.title('Intraday Times Series for the MSFT stock (1 min)')\n",
    "plt.show()"
   ]
  },
  {
   "cell_type": "code",
   "execution_count": null,
   "metadata": {},
   "outputs": [],
   "source": [
    "#rename the columns to something more sensible\n",
    "data.rename(columns={'1. open':'Open',\n",
    "                  '2. high':'High',\n",
    "                  '3. low':'Low',\n",
    "                  '4. close':'Close',\n",
    "                  '5. volume':'Volume',\n",
    "                }, inplace=True)\n",
    "\n",
    "#get end of day only\n",
    "cyclic_data = data.iloc[6::7, :]\n",
    "#subtract the difference\n",
    "cyclic_data.Close = cyclic_data.Close.diff(periods=-1)\n",
    "#drop the latest value (ie. there's no tomorrow minus today)\n",
    "cyclic_data = cyclic_data[:-1]"
   ]
  },
  {
   "cell_type": "markdown",
   "metadata": {},
   "source": [
    "# Scraper\n"
   ]
  },
  {
   "cell_type": "code",
   "execution_count": 22,
   "metadata": {},
   "outputs": [
    {
     "name": "stdout",
     "output_type": "stream",
     "text": [
      "12 Apr 2019 https://www.businesstimes.com.sg/technology/apple-adds-more-suppliers-to-clean-energy-programme\n",
      "11 Apr 2019 https://www.businesstimes.com.sg/technology/apple-adds-foxconn-chip-suppliers-to-clean-energy-programme\n",
      "09 Apr 2019 https://www.businesstimes.com.sg/companies-markets/banks-should-worry-about-apple-card\n",
      "06 Apr 2019 https://www.businesstimes.com.sg/technology/does-apple-want-to-sell-tv-subscriptions-or-change-the-world\n",
      "04 Apr 2019 https://www.businesstimes.com.sg/technology/japan-display-to-supply-oled-screens-for-apple-watch\n",
      "02 Apr 2019 https://www.businesstimes.com.sg/energy-commodities/saudi-aramco-is-world%E2%80%99s-most-profitable-company-beating-apple-by-far\n",
      "02 Apr 2019 https://www.businesstimes.com.sg/technology/apple-supplier-japan-display-to-seek-funding-shares-surge\n",
      "01 Apr 2019 https://www.businesstimes.com.sg/technology/troubled-apple-supplier-japan-display-to-seek-funding-shares-surge\n",
      "30 Mar 2019 https://www.businesstimes.com.sg/consumer/apple-pulls-plug-on-airpower-wireless-charging-mat\n",
      "28 Mar 2019 https://www.businesstimes.com.sg/technology/rulings-on-qualcomm-apple-fight-leave-battle-lines-unchanged\n",
      "27 Mar 2019 https://www.businesstimes.com.sg/technology/apple-qualcomm-gird-for-next-phase-of-patent-battle-after-mixed-us-rulings\n",
      "27 Mar 2019 https://www.businesstimes.com.sg/technology/apple-bites-into-tv-gaming-and-credit-card-offerings\n",
      "26 Mar 2019 https://www.businesstimes.com.sg/technology/apple-spotlights-services-with-tv-gaming-and-credit-card-offerings\n",
      "25 Mar 2019 https://www.businesstimes.com.sg/technology/new-streaming-tv-service-part-of-apples-reinvention\n",
      "23 Mar 2019 https://www.businesstimes.com.sg/technology/why-netflix-wont-be-part-of-apple-tv\n",
      "22 Mar 2019 https://www.businesstimes.com.sg/technology/apples-new-paid-subscription-news-service-to-feature-wsj\n",
      "20 Mar 2019 https://www.businesstimes.com.sg/consumer/netflix-confirms-it-wont-be-part-of-apple-tv\n",
      "19 Mar 2019 https://www.businesstimes.com.sg/consumer/netflix-will-not-be-joining-apple-tv-service\n",
      "16 Mar 2019 https://www.businesstimes.com.sg/technology/apple-infringed-three-qualcomm-patents-jury-finds\n",
      "14 Mar 2019 https://www.businesstimes.com.sg/stocks/us-wall-street-flat-at-open-as-trade-uncertainty-clouds-apple-boost\n",
      "13 Mar 2019 https://www.businesstimes.com.sg/consumer/apple-says-its-showtime-on-march-25-with-tv-service-announcement-expected\n",
      "08 Mar 2019 https://www.businesstimes.com.sg/technology/tim-apple-goes-viral-on-social-media-after-trump-gaffe\n",
      "06 Mar 2019 https://www.businesstimes.com.sg/technology/google-and-apple-see-the-ghost-of-future-taxes\n",
      "01 Mar 2019 https://www.businesstimes.com.sg/transport/apple-self-driving-car-layoffs-give-hints-to-divisions-direction-0\n",
      "28 Feb 2019 https://www.businesstimes.com.sg/transport/apple-self-driving-car-layoffs-give-hints-to-divisions-direction\n",
      "26 Feb 2019 https://www.businesstimes.com.sg/technology/samsung-and%C2%A0huawei-double-down-on-apples-high-price-phone-strategy\n",
      "22 Feb 2019 https://www.businesstimes.com.sg/technology/apple-teams-with-ant-financial-banks-for-interest-free-iphone-financing-in-china\n",
      "15 Feb 2019 https://www.businesstimes.com.sg/technology/apple-eyes-starpower-for-launch-of-new-streaming-service\n",
      "14 Feb 2019 https://www.businesstimes.com.sg/technology/apple-to-ship-iphones-with-only-qualcomm-chips-to-german-stores\n",
      "14 Feb 2019 https://www.businesstimes.com.sg/government-economy/guide-to-xi-jinping%E2%80%99s%C2%A0ruling-doctrine-tops%C2%A0apple%E2%80%99s-china%C2%A0download-charts\n",
      "14 Feb 2019 https://www.businesstimes.com.sg/technology/apple-aims-for-april-launch-of-tv-service-with-cbs-viacom-and-starz\n",
      "11 Feb 2019 https://www.businesstimes.com.sg/technology/apple-iphone-shipments-dive-in-china-as-huawei-tightens-grip\n",
      "11 Feb 2019 https://www.businesstimes.com.sg/technology/apples-iphone-shipments-plunge-in-china-as-huawei-tightens-grip\n",
      "07 Feb 2019 https://www.businesstimes.com.sg/technology/lawmakers-query-apples-facetime-privacy-violation\n",
      "07 Feb 2019 https://www.businesstimes.com.sg/consumer/apple-names-third-retail-chief-in-seven-years-for-post-iphone-era\n",
      "06 Feb 2019 https://www.businesstimes.com.sg/technology/apple-replacing-retail-boss-as-pressure-on-for-sales\n",
      "02 Feb 2019 https://www.businesstimes.com.sg/technology/apple-flexes-muscle-in-spat-with-facebook\n",
      "01 Feb 2019 https://www.businesstimes.com.sg/government-economy/chinese-engineer-charged-in-theft-of-apple-car-secrets\n",
      "31 Jan 2019 https://www.businesstimes.com.sg/technology/lawyer-sues-apple-over-facetime-bug\n",
      "30 Jan 2019 https://www.businesstimes.com.sg/stocks/us-wall-st-opens-higher-on-apple-boeing-boost\n",
      "30 Jan 2019 https://www.businesstimes.com.sg/stocks/seoul-stocks-rise-on-apple-earnings-fed-rate-decision-awaited\n",
      "30 Jan 2019 https://www.businesstimes.com.sg/technology/apple-lowers-some-iphone-prices-outside-us-to-offset-strong-dollar\n",
      "30 Jan 2019 https://www.businesstimes.com.sg/technology/lawyer-sues-apple-over-facetime-bug-eavesdropping-on-client-chat\n",
      "30 Jan 2019 https://www.businesstimes.com.sg/technology/apple-profit-stable-as-service-gains-offset-iphone-slump\n",
      "29 Jan 2019 https://www.businesstimes.com.sg/technology/apple-ceo-calls-for-privacy-action-as-reforms-in-focus\n",
      "29 Jan 2019 https://www.businesstimes.com.sg/technology/apple-to-patch-privacy-bug-in-video-calling-feature\n",
      "28 Jan 2019 https://www.businesstimes.com.sg/technology/apples-partners-quicken-shift-from-china-as-trade-tensions-rise\n",
      "24 Jan 2019 https://www.businesstimes.com.sg/technology/apple-hires-samsung-battery-executive-to-help-lead-its-own-work\n",
      "24 Jan 2019 https://www.businesstimes.com.sg/technology/apple-supplier-sheds-half-its-value-but-foreign-funds-not-spooked\n",
      "23 Jan 2019 https://www.businesstimes.com.sg/technology/apple-supplier-loses-half-its-value-but-no-selloff-from-foreign-funds\n",
      "18 Jan 2019 https://www.businesstimes.com.sg/technology/apple-to-cut-back-on-hiring-due-to-iphone-sales-woes\n",
      "15 Jan 2019 https://www.businesstimes.com.sg/technology/apples-coo-says-qualcomm-refused-to-provide-chips-for-2018-phones\n",
      "14 Jan 2019 https://www.businesstimes.com.sg/technology/qualcomm-ceo-defends-sole-supply-deal-with-apple-for-chips\n",
      "12 Jan 2019 https://www.businesstimes.com.sg/technology/apple-demanded-us1b-for-chance-to-win-iphone-qualcomm-ceo\n",
      "10 Jan 2019 https://www.businesstimes.com.sg/technology/qualcomm-says-apple-ceos-comment-on-settlement-talk-misleading\n",
      "09 Jan 2019 https://www.businesstimes.com.sg/technology/qualcomm-says-apple-ceos-comment-misleading\n",
      "09 Jan 2019 https://www.businesstimes.com.sg/technology/apple-cuts-q1-production-plan-for-new-iphones-by-10-nikkei\n",
      "09 Jan 2019 https://www.businesstimes.com.sg/technology/apple-ceo-confident-of-prospects-despite-naysayers\n",
      "08 Jan 2019 https://www.businesstimes.com.sg/government-economy/apple-faces-%E2%80%98informal-boycott%E2%80%99-from-china-consumers-says-bank-of-america-merrill\n",
      "08 Jan 2019 https://www.businesstimes.com.sg/technology/apple-to-distribute-itunes-shows-on-samsung-tvs\n",
      "07 Jan 2019 https://www.businesstimes.com.sg/technology/apple-inks-deal-with-samsung-to-distribute-itunes-shows-on-tvs\n",
      "07 Jan 2019 https://www.businesstimes.com.sg/consumer/brutally-competitive-chinese-phone-makers-outpace-apple\n",
      "07 Jan 2019 https://www.businesstimes.com.sg/companies-markets/apples-biggest-problem-my-mom-and-users-like-her\n",
      "05 Jan 2019 https://www.businesstimes.com.sg/technology/trump-to-apple-make-your-product-in-the-united-states\n",
      "05 Jan 2019 https://www.businesstimes.com.sg/government-economy/trump-downplays-apple-woes-says-china-economy-helps-us-in-trade-talks\n",
      "05 Jan 2019 https://www.businesstimes.com.sg/companies-markets/apple-sales-shock-isnt-the-worst-of-techs-troubles\n",
      "04 Jan 2019 https://www.businesstimes.com.sg/technology/apple-rival-paves-way-for-ban-on-some-iphones-in-germany\n",
      "04 Jan 2019 https://www.businesstimes.com.sg/technology/apples-bombshell-and-the-trillion-dollar-question\n",
      "04 Jan 2019 https://www.businesstimes.com.sg/stocks/us-dow-ends-down-28-after-weak-apple-forecast-us-data\n",
      "04 Jan 2019 https://www.businesstimes.com.sg/stocks/europe-weak-us-factory-data-apple-warning-weigh-on-uk-shares\n",
      "04 Jan 2019 https://www.businesstimes.com.sg/companies-markets/apple-induced-flash-crash-jolts-currency-markets\n"
     ]
    },
    {
     "name": "stdout",
     "output_type": "stream",
     "text": [
      "04 Jan 2019 https://www.businesstimes.com.sg/government-economy/apples-cut-in-revenue-outlook-triggers-slump-for-suppliers\n",
      "04 Jan 2019 https://www.businesstimes.com.sg/companies-markets/a-bite-of-apples-poison-and-markets-sell-in-a-flash\n",
      "04 Jan 2019 https://www.businesstimes.com.sg/government-economy/apples-china-trouble-makes-trumps-trade-war-harder-to-defend\n",
      "03 Jan 2019 https://www.businesstimes.com.sg/stocks/us-wall-st-opens-lower-as-apple-sales-warning-drags-tech\n",
      "03 Jan 2019 https://www.businesstimes.com.sg/stocks/europe-shares-fall-as-apple-guidance-cut-whipsaws-tech-stocks\n",
      "03 Jan 2019 https://www.businesstimes.com.sg/stocks/asia-markets-stage-slight-recovery-but-tech-firms-soured-by-apple\n",
      "03 Jan 2019 https://www.businesstimes.com.sg/government-economy/apple-isn%E2%80%99t-the-only-casualty%C2%A0of-chinas-slowdown\n",
      "03 Jan 2019 https://www.businesstimes.com.sg/stocks/asia-shares-skid-as-apple-warning-stokes-growth-fears-flash-crash-sweeps-currencies\n",
      "03 Jan 2019 https://www.businesstimes.com.sg/technology/apple-sales-warning-is-an-ominous-sign-for-the-global-economy\n",
      "03 Jan 2019 https://www.businesstimes.com.sg/technology/apple-cuts-outlook-sees-challenges-in-china-emerging-markets\n",
      "21 Dec 2018 https://www.businesstimes.com.sg/technology/apple-risks-iphone-ban-in-germany-after-court-case-loss\n",
      "20 Dec 2018 https://www.businesstimes.com.sg/technology/german-court-rules-apple-infringed-qualcomm-patent\n",
      "19 Dec 2018 https://www.businesstimes.com.sg/technology/qualcomm-says-apple-violating-chinese-court-order-on-iphone-sales\n",
      "18 Dec 2018 https://www.businesstimes.com.sg/technology/qualcomm-says-apple-violating-chinese-court-order-despite-new-software\n",
      "18 Dec 2018 https://www.businesstimes.com.sg/technology/foxconn-not-in-settlement-talks-with-qualcomm-in-apple-battle\n",
      "17 Dec 2018 https://www.businesstimes.com.sg/technology/foxconn-not-in-settlement-talks-with-qualcomm-in-apple-battle-attorney\n",
      "15 Dec 2018 https://www.businesstimes.com.sg/technology/apple-will-update-iphones-in-china-to-avoid-a-ban-on-sales\n",
      "15 Dec 2018 https://www.businesstimes.com.sg/companies-markets/apple-to-tweak-china-iphones-in-compliance-with-qualcomm-court-ruling\n",
      "14 Dec 2018 https://www.businesstimes.com.sg/technology/apple-will-tweak-chinese-iphones-to-comply-with-qualcomm-patent-ruling\n",
      "14 Dec 2018 https://www.businesstimes.com.sg/technology/apple-to-add-us1b-texas-campus-and-thousands-of-jobs-across-us\n",
      "14 Dec 2018 https://www.businesstimes.com.sg/technology/apple-suppliers-may-move-iphone-production-if-tariffs-hit-25\n",
      "13 Dec 2018 https://www.businesstimes.com.sg/government-economy/apple-suppliers-are-considering-moving-iphone-output-if-tariffs-hit-25\n",
      "12 Dec 2018 https://www.businesstimes.com.sg/technology/apples-netflix-for-magazines-getting-a-chilly-reception\n",
      "12 Dec 2018 https://www.businesstimes.com.sg/technology/china-court-bans-sales-of-older-iphones-in-apple-qualcomm-row\n",
      "12 Dec 2018 https://www.businesstimes.com.sg/technology/top-apple-suppliers-post-solid-sales\n",
      "11 Dec 2018 https://www.businesstimes.com.sg/technology/china-court-bans-sales-of-older-iphone-models-in-apple-qualcomm-global-battle\n",
      "11 Dec 2018 https://www.businesstimes.com.sg/technology/china-ruling-could-ban-some-apple-iphones-sales-amid-qualcomm-fight\n",
      "10 Dec 2018 https://www.businesstimes.com.sg/stocks/us-wall-street-opens-lower-as-apple-weighs-0\n",
      "10 Dec 2018 https://www.businesstimes.com.sg/companies-markets/singtel-boosts-dash-mobile-wallet-app-with-international-payments-backed-by-visa\n"
     ]
    }
   ],
   "source": [
    "from urllib.request import urlopen, HTTPError\n",
    "from bs4 import BeautifulSoup\n",
    "from datetime import datetime, timedelta\n",
    "import time\n",
    "import pprint\n",
    "\n",
    "date_sentiments = {}\n",
    "\n",
    "for i in range(1,11):\n",
    "#     page = urlopen('https://www.businesstimes.com.sg/search/crude%2Boil?page='+str(i)).read()\n",
    "    page = urlopen('https://www.businesstimes.com.sg/search/{}?page='.format(search_term) + str(i)).read()\n",
    "    soup = BeautifulSoup(page, features=\"html.parser\")\n",
    "    posts = soup.findAll(\"div\", {\"class\": \"media-body\"})\n",
    "    for post in posts:\n",
    "        time.sleep(1)\n",
    "        url = post.a['href']\n",
    "        date = post.time.text\n",
    "        print(date, url)\n",
    "        try:\n",
    "            link_page = urlopen(url).read()\n",
    "        except HTTPError as e:\n",
    "            if e.code == 403:\n",
    "                continue\n",
    "            url = url[:-2]\n",
    "            link_page = urlopen(url).read()\n",
    "        link_soup = BeautifulSoup(link_page)\n",
    "        sentences = link_soup.findAll(\"p\")\n",
    "        passage = \"\"\n",
    "        for sentence in sentences:\n",
    "            passage += sentence.text\n",
    "        date_sentiments.setdefault(date, []).append(passage)"
   ]
  },
  {
   "cell_type": "code",
   "execution_count": null,
   "metadata": {},
   "outputs": [],
   "source": [
    "import json\n",
    "\n",
    "json.dump(date_sentiments, open( 'businesstimes_{}_{}.json'.format(SYMBOL, now), 'w' ))"
   ]
  },
  {
   "cell_type": "code",
   "execution_count": null,
   "metadata": {},
   "outputs": [],
   "source": [
    "date_sentiment = {}\n",
    "\n",
    "def flatten(x):\n",
    "    result = []\n",
    "    for el in x:\n",
    "        if hasattr(el, \"__iter__\") and not isinstance(el, (str, bytes)):\n",
    "            result.extend(flatten(el))\n",
    "        else:\n",
    "            result.append(el)\n",
    "    return result\n",
    "\n",
    "for k,v in date_sentiments.items():\n",
    "    temp = flatten(v)\n",
    "    seperator = ', '\n",
    "    temp = seperator.join(temp)\n",
    "    date_sentiment[datetime.strptime(k, '%d %b %Y').date() + timedelta(days=1)] = temp"
   ]
  },
  {
   "cell_type": "code",
   "execution_count": null,
   "metadata": {},
   "outputs": [],
   "source": [
    "earliest_date = min(date_sentiment.keys())\n",
    "latest_date = max(date_sentiment.keys())"
   ]
  },
  {
   "cell_type": "markdown",
   "metadata": {},
   "source": [
    "# Merge Data"
   ]
  },
  {
   "cell_type": "code",
   "execution_count": null,
   "metadata": {},
   "outputs": [],
   "source": [
    "import pandas as pd\n",
    "\n",
    "train_df = pd.DataFrame.from_dict(date_sentiment.items())"
   ]
  },
  {
   "cell_type": "code",
   "execution_count": null,
   "metadata": {},
   "outputs": [],
   "source": [
    "new_frame = cyclic_data.reset_index()"
   ]
  },
  {
   "cell_type": "code",
   "execution_count": null,
   "metadata": {},
   "outputs": [],
   "source": [
    "new_frame.head()"
   ]
  },
  {
   "cell_type": "code",
   "execution_count": null,
   "metadata": {},
   "outputs": [],
   "source": [
    "new_frame['date'] = pd.to_datetime(new_frame['date']).dt.date"
   ]
  },
  {
   "cell_type": "code",
   "execution_count": null,
   "metadata": {},
   "outputs": [],
   "source": [
    "def intersection(lst1, lst2): \n",
    "    return list(set(lst1) & set(lst2)) \n",
    "\n",
    "shared_dates = intersection(train_df[0], new_frame['date'])"
   ]
  },
  {
   "cell_type": "code",
   "execution_count": null,
   "metadata": {},
   "outputs": [],
   "source": [
    "train_df = train_df[train_df[0].isin(shared_dates)]"
   ]
  },
  {
   "cell_type": "code",
   "execution_count": null,
   "metadata": {},
   "outputs": [],
   "source": [
    "def set_intervals(item):\n",
    "    if item > 0:\n",
    "        return 1\n",
    "    elif item < 0:\n",
    "        return 0\n",
    "new_frame.Close.diff(periods=-1)\n",
    "new_frame['diff'] = new_frame['Close'].map(set_intervals)"
   ]
  },
  {
   "cell_type": "code",
   "execution_count": null,
   "metadata": {},
   "outputs": [],
   "source": [
    "new_frame = new_frame[new_frame['date'].isin(shared_dates)]"
   ]
  },
  {
   "cell_type": "code",
   "execution_count": null,
   "metadata": {},
   "outputs": [],
   "source": [
    "compiled_frame = train_df[::-1]\n",
    "compiled_frame['target'] = new_frame['diff'].values\n",
    "compiled_frame.target.astype(int)\n",
    "compiled_frame"
   ]
  },
  {
   "cell_type": "code",
   "execution_count": null,
   "metadata": {},
   "outputs": [],
   "source": [
    "len(compiled_frame)"
   ]
  },
  {
   "cell_type": "code",
   "execution_count": null,
   "metadata": {},
   "outputs": [],
   "source": [
    "file_name = 'data/mycollection/{}_{}'.format(SYMBOL, now)\n",
    "compiled_frame.to_csv(file_name, sep='\\t')"
   ]
  },
  {
   "cell_type": "code",
   "execution_count": null,
   "metadata": {},
   "outputs": [],
   "source": [
    "pd.read_csv(file_name, sep='\\t')"
   ]
  }
 ],
 "metadata": {
  "kernelspec": {
   "display_name": "Python 3",
   "language": "python",
   "name": "python3"
  },
  "language_info": {
   "codemirror_mode": {
    "name": "ipython",
    "version": 3
   },
   "file_extension": ".py",
   "mimetype": "text/x-python",
   "name": "python",
   "nbconvert_exporter": "python",
   "pygments_lexer": "ipython3",
   "version": "3.6.8"
  },
  "latex_envs": {
   "LaTeX_envs_menu_present": true,
   "autoclose": false,
   "autocomplete": true,
   "bibliofile": "biblio.bib",
   "cite_by": "apalike",
   "current_citInitial": 1,
   "eqLabelWithNumbers": true,
   "eqNumInitial": 1,
   "hotkeys": {
    "equation": "Ctrl-E",
    "itemize": "Ctrl-I"
   },
   "labels_anchors": false,
   "latex_user_defs": false,
   "report_style_numbering": false,
   "user_envs_cfg": false
  }
 },
 "nbformat": 4,
 "nbformat_minor": 2
}
